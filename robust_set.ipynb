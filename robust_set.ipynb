{
 "cells": [
  {
   "cell_type": "markdown",
   "metadata": {},
   "source": [
    "<div style=\"font-family: 'Gen Jyuu Gothic Monospace Medium', 'Noto Sans TC', 'Inconsolata'; font-size: 600%; font-weight: 700; text-align: center; color: DarkSeaGreen;\">\n",
    "自訂set實作\n",
    "</div>\n",
    "\n",
    "<div style=\"font-family: 'Inconsolata', 'Noto Sans TC'; font-size: 135%; color: Gainsboro\">\n",
    "\n",
    "* 實作完整的set談何容易，要顧及的底層細節非常多，很可能超出筆者的能力。\n",
    "* 所以本文的自訂set，只是修改Python set的一小部分，練功成份大於實用。\n",
    "\n",
    "</div>\n",
    "<br><br>"
   ]
  },
  {
   "cell_type": "code",
   "execution_count": null,
   "metadata": {},
   "outputs": [],
   "source": [
    "# from colors import Colors\n",
    "# import random as rd\n",
    "\n",
    "# print(f'{Colors.Fore.MAGENTA}{Colors.Back.YELLOW}*黃底洋紅字*')\n",
    "# print(f'\\033[38;2;229;198;105m**設定輸出顏色**')\n",
    "# print(f'\\033[38;2;255;215;0mGold Gold')\n",
    "# print(f'{chr(27)}[38;2;{(r := rd.randint(0, 255))};{(g := rd.randint(0, 255))};{(b := rd.randint(0, 255))}m\\x1b[48;2;{r};{g};{b}mHello, world.')\n"
   ]
  },
  {
   "cell_type": "code",
   "execution_count": 1,
   "metadata": {},
   "outputs": [
    {
     "data": {
      "application/javascript": "// 設定output文字顏色\ndocument.styleSheets[0].addRule('body', 'color: #8fbc8f !important;')\n",
      "text/plain": [
       "<IPython.core.display.Javascript object>"
      ]
     },
     "metadata": {},
     "output_type": "display_data"
    }
   ],
   "source": [
    "%%javascript\n",
    "// 設定output文字顏色\n",
    "document.styleSheets[0].addRule('body', 'color: #8fbc8f !important;')"
   ]
  },
  {
   "cell_type": "code",
   "execution_count": 2,
   "metadata": {},
   "outputs": [
    {
     "name": "stdout",
     "output_type": "stream",
     "text": [
      "Hello\n"
     ]
    }
   ],
   "source": [
    "print('Hello')"
   ]
  },
  {
   "cell_type": "markdown",
   "metadata": {},
   "source": [
    "<div style=\"color: SteelBlue; font-family: 'Ubuntu Mono', 'Inconsolata', 'Noto Sans TC'; font-size: 300%; font-weight: 700;\">\n",
    "先複習Python的set\n",
    "</div>\n",
    "<br>\n",
    "<div style=\"font-family: 'Inconsolata', 'Noto Sans TC'; font-size: 135%; color: Gainsboro\">\n",
    "\n",
    "* set的notation\n",
    "* set的特性\n",
    "* 建立空set\n",
    "* 運算子和方法\n"
   ]
  },
  {
   "cell_type": "markdown",
   "metadata": {},
   "source": [
    "<div style=\"color: DarkSalmon; font-family: 'Ubuntu Mono', 'Inconsolata', 'Noto Sans TC'; font-size: 250%; font-weight: 700;\">\n",
    "set的notation\n",
    "</div>\n",
    "<br>\n",
    "<div style=\"font-family: 'Inconsolata', 'Noto Sans TC'; font-size: 135%; color: Gainsboro\">\n",
    "\n",
    "* set是用大括號(花括弧)`{}`作為前後綴符號，例如：\n",
    "* `elements = {'Python', 'JS', 'C++', 'Java'}`"
   ]
  },
  {
   "cell_type": "markdown",
   "metadata": {},
   "source": [
    "<div style=\"color: DarkSalmon; font-family: 'Ubuntu Mono', 'Inconsolata', 'Noto Sans TC'; font-size: 250%; font-weight: 700;\">\n",
    "set的特性\n",
    "</div>\n",
    "<br>\n",
    "<div style=\"font-family: 'Inconsolata', 'Noto Sans TC'; font-size: 135%; color: Gainsboro\">\n",
    "\n",
    "* 每個元素都是唯一(unique)，不會重複。\n",
    "* 元素的順序無法保證(unordered)。 \n",
    "* 可新增、刪除元素，但不能修改元素的值。\n",
    "* 可用迴圈(通常用for loop)迭代。所以set是`iterable`。\n",
    "* 由於不保證元素位置，set並無索引(index)，當然也沒有切片(slice)。所以set非`sequence`。\n",
    "* set的元素不可以是unhashable物件。"
   ]
  },
  {
   "cell_type": "markdown",
   "metadata": {},
   "source": [
    "<div style=\"text-align:left\"><img src=\"https://hackmd.io/_uploads/BkvFGZjd6.png\" width=\"650\"/></div>"
   ]
  },
  {
   "cell_type": "markdown",
   "metadata": {},
   "source": [
    "<div style=\"color: Turquoise; font-family: 'Ubuntu Mono', 'Inconsolata', 'Noto Sans TC'; font-size: 200%; font-weight: 700;\">\n",
    "補充說明\n",
    "</div>\n",
    "<br>\n",
    "<div style=\"font-family: 'Inconsolata', 'Noto Sans TC'; font-size: 135%; color: Gainsboro\">\n",
    "\n",
    "* `iterable` vs `sequence`：\n",
    "    * `iterable`在這裡是名詞，非形容詞。意指「可迭代的物件」。\n",
    "    * `sequence`是`iterable`的一個「特例」(a more specific type of iterable)，特點是有索引，可以進行切片運算(slicing operations)。\n",
    "    * 從set theory角度看這兩者，可以說`sequences`是`iterables`的subset，`iterables`則是`sequences`的superset。\n",
    "* 我們說某物件是hashable，意思是它有一個`hash value`，這個value在該物件的生命周期內都不會改變。An object is hashable if it has a hash value that does not change during its lifetime.\n",
    "* 一個簡易但不精準的識別hashability方法是：immutable物件大致上是hashable，mutable物件則多半是unhashable。兩者高度相關，但非絕對。誠如ChapGPT所說：\n",
    "    <div style=\"color: LightSkyBlue; font-size: 90%;\">\n",
    "        \n",
    "    > ...while there is a strong correlation between immutability and hashability in Python, the rule is not absolute. Hashability is more about whether an object’s hash value remains constant throughout its lifetime rather than just its mutability or immutability status.\n",
    "    </div>"
   ]
  },
  {
   "cell_type": "code",
   "execution_count": null,
   "metadata": {},
   "outputs": [],
   "source": [
    "from typeutil import is_hashable\n",
    "\n",
    "t1 = (1, 2, 3)    # tuple is immutable\n",
    "is_hashable(t1)\n",
    "\n",
    "t2 = (1, 2, [])   # tuple is immutable\n",
    "is_hashable(t2)\n",
    "\n",
    "is_hashable([])"
   ]
  },
  {
   "cell_type": "code",
   "execution_count": null,
   "metadata": {},
   "outputs": [],
   "source": [
    "t2 = (1, 2, [])\n",
    "t3 = (t2, 1)\n",
    "is_hashable(t3)"
   ]
  },
  {
   "cell_type": "code",
   "execution_count": null,
   "metadata": {},
   "outputs": [],
   "source": [
    "# 每個元素都是唯一(unique)，不會重複。\n",
    "elements = {1, 9, 6, 4, 1, 4, 1}\n",
    "print(f'{elements = }')"
   ]
  },
  {
   "cell_type": "code",
   "execution_count": null,
   "metadata": {},
   "outputs": [],
   "source": [
    "# 元素的順序無法保證(unordered)。\n",
    "elements = {3, 3.1416, '0', None, True, ()}\n",
    "print(f'{elements = }')"
   ]
  },
  {
   "cell_type": "code",
   "execution_count": null,
   "metadata": {},
   "outputs": [],
   "source": [
    "# 可新增、刪除元素，但不能修改元素的值。\n",
    "...   # 稍後詳說\n"
   ]
  },
  {
   "cell_type": "code",
   "execution_count": null,
   "metadata": {},
   "outputs": [],
   "source": [
    "# 可用迴圈迭代。\n",
    "elements = {8, 3, '0', None, True}\n",
    "for element in elements:\n",
    "    print(f'{element = }')"
   ]
  },
  {
   "cell_type": "code",
   "execution_count": null,
   "metadata": {},
   "outputs": [],
   "source": [
    "# 沒有索引(index)和切片(slice)。\n",
    "elements = {0, 1, 2, 3, 4}\n",
    "print(f'{elements = }')\n",
    "# print(elements[1])\n",
    "print(elements[:1])"
   ]
  },
  {
   "cell_type": "code",
   "execution_count": null,
   "metadata": {},
   "outputs": [],
   "source": [
    "# 元素不可以為unhashable物件。\n",
    "# elements = {2, '4', True, None, ()}\n",
    "elements = {2, '4', True, None, (), ((),)}\n",
    "print(f'{elements = }')"
   ]
  },
  {
   "cell_type": "markdown",
   "metadata": {},
   "source": [
    "<div style=\"color: DarkSalmon; font-family: 'Ubuntu Mono', 'Inconsolata', 'Noto Sans TC'; font-size: 250%; font-weight: 700;\">\n",
    "建立空set\n",
    "</div>\n",
    "<br>\n",
    "<div style=\"font-family: 'Inconsolata', 'Noto Sans TC'; font-size: 135%; color: Gainsboro\">\n",
    "\n",
    "* 建立空set請用`set1 = set()`。\n",
    "* 不可以用`set1 = {}`，因為這個寫法是建立空dict而非空set。\n",
    "    * 建立空list可用`list1 = list()`或`list1 = []`。\n",
    "    * 建立空tuple可用`tuple1 = tuple()`或`tuple1 = ()`。\n",
    "    * 建立空dict可用`dict1 = dict()`或`dict1 = {}`。\n",
    "    * 唯獨空set只能用`set()`來建。"
   ]
  },
  {
   "cell_type": "markdown",
   "metadata": {},
   "source": [
    "<div style=\"text-align:center\"><img src=\"https://hackmd.io/_uploads/SyI5hFsS3.png\" width=\"400\"/></div>"
   ]
  },
  {
   "cell_type": "code",
   "execution_count": null,
   "metadata": {},
   "outputs": [],
   "source": [
    "# 建立空set。\n",
    "set1 = set()\n",
    "set2 = {}   # empty dict, NOT empty set\n",
    "\n",
    "print(f'{set1 = }\\t{type(set1) = }')\n",
    "print(f'{set2 = }\\t{type(set2) = }')"
   ]
  },
  {
   "cell_type": "markdown",
   "metadata": {},
   "source": [
    "<div style=\"text-align:center\"><img src=\"https://hackmd.io/_uploads/ryRk_EdwT.jpg\" width=\"400\"/></div>"
   ]
  },
  {
   "cell_type": "markdown",
   "metadata": {},
   "source": [
    "<div style=\"color: DarkSalmon; font-family: 'Ubuntu Mono', 'Inconsolata', 'Noto Sans TC'; font-size: 250%; font-weight: 700;\">\n",
    "運算子和方法\n",
    "</div>\n",
    "<br>\n",
    "<div style=\"font-family: 'Inconsolata', 'Noto Sans TC'; font-size: 135%; color: Gainsboro\">\n",
    "\n",
    "* set提供以下運算子(operators)和對應方法(methods)：\n",
    "    <div style=\"font-family: 'Inconsolata', 'Noto Sans TC'; font-size: 85%; color: Gainsboro\">\n",
    "\n",
    "    |運算子|方法|中文|範例 / 說明|\n",
    "    |--|--|--|--|\n",
    "    |\\||union()|聯集|<ol><li>set1 \\| set2</li><li>set1.union(set2)</li></ol>|\n",
    "    |&|intersection()|交集|<ol><li>set1 & set2</li><li>set1.intersection(set2)|\n",
    "    |-|difference()|差集|<ol><li>set1 - set2</li><li>set1.difference(set2)|\n",
    "    |^|symmetric_difference()|對稱差|<ol><li>set1 ^ set2</li><li>set1.symmetric_difference(set2)|\n",
    "    |<=|issubset()|子集|<ol><li>set1 <= set2</li><li>set1.issubset(set2)|\n",
    "    |<|proper subset<br>(no direct method)|真子集|<ol><li>set1 < set2</li><li>set1.issubset(set2) and<br>set1 != set2|\n",
    "    |>=|issuperset()|超集|<ol><li>set1 >= set2</li><li>set1.issuperset(set2)|\n",
    "    |>|proper superset<br>(no direct method)|真超集|<ol><li>set1 > set2</li><li>set1.issuperset(set2) and<br>set1 != set2|\n",
    "    |\\|=|update()||add elements from all  others.|\n",
    "    |&=|intersection_update()||keep only elements found<br>in it and all others.|\n",
    "    |-=|difference_update()||remove elements found in<br>others.|\n",
    "    |^=|symmetric_difference_update()||keep only elements found in<br>either set, but not in both.|\n",
    "    </div>\n",
    "* 上表最後4項運算子`|=`, `&=`, `-=`, `^=`構成的是statement(指令/敘述)，其餘各項則構成expression(運算式)。\n",
    "* Python的set沒有提供`+`、`*`或`/`運算子。\n",
    "</div>"
   ]
  },
  {
   "cell_type": "code",
   "execution_count": null,
   "metadata": {},
   "outputs": [],
   "source": [
    "# union\n",
    "set1 = {1, 2, 3, 4, 5}\n",
    "set2 = {8, 7, 6, 5, 4}\n",
    "\n",
    "print(f'{set1 = }')\n",
    "print(f'{set2 = }')\n",
    "print(f'{set1 | set2      = }')\n",
    "print(f'{set1.union(set2) = }')\n",
    "print(f'{set1 = }')\n",
    "print(f'{set2 = }')"
   ]
  },
  {
   "cell_type": "code",
   "execution_count": null,
   "metadata": {},
   "outputs": [],
   "source": [
    "# intersection\n",
    "set1 = {1, 2, 3, 4, 5}\n",
    "set2 = {8, 7, 6, 5, 4}\n",
    "\n",
    "print(f'{set1 = }')\n",
    "print(f'{set2 = }')\n",
    "print(f'{set1 & set2             = }')\n",
    "print(f'{set1.intersection(set2) = }')\n",
    "print(f'{set1 = }')\n",
    "print(f'{set2 = }')"
   ]
  },
  {
   "cell_type": "code",
   "execution_count": null,
   "metadata": {},
   "outputs": [],
   "source": [
    "# difference\n",
    "set1 = {1, 2, 3, 4, 5}\n",
    "set2 = {8, 7, 6, 5, 4}\n",
    "\n",
    "print(f'{set1 = }')\n",
    "print(f'{set2 = }')\n",
    "print(f'{set1 - set2           = }')\n",
    "print(f'{set1.difference(set2) = }')\n",
    "print(f'{set1 = }')\n",
    "print(f'{set2 = }')"
   ]
  },
  {
   "cell_type": "code",
   "execution_count": null,
   "metadata": {},
   "outputs": [],
   "source": [
    "# symmetric difference\n",
    "set1 = {1, 2, 3, 4, 5}\n",
    "set2 = {8, 7, 6, 5, 4}\n",
    "\n",
    "print(f'{set1 = }')\n",
    "print(f'{set2 = }')\n",
    "print(f'{set1 ^ set2                     = }')\n",
    "print(f'{set1.symmetric_difference(set2) = }')\n",
    "print(f'{set1 = }')\n",
    "print(f'{set2 = }')"
   ]
  },
  {
   "cell_type": "code",
   "execution_count": null,
   "metadata": {},
   "outputs": [],
   "source": [
    "# subset\n",
    "set1 = {1, 2, 3, 4, 5}\n",
    "set2 = {5, 4, 3}\n",
    "\n",
    "print(f'{set1 = }')\n",
    "print(f'{set2 = }')\n",
    "print(f'{set1 <= set2        = }')\n",
    "print(f'{set1.issubset(set2) = }\\n')\n",
    "\n",
    "set1 = {3, 5, 1}\n",
    "set2 = {1, 2, 3, 4, 5}\n",
    "print(f'{set1 = }')\n",
    "print(f'{set2 = }')\n",
    "print(f'{set1 <= set2        = }')\n",
    "print(f'{set1.issubset(set2) = }\\n')\n",
    "\n",
    "set1 = {1, 2, 3, 4, 5}\n",
    "set2 = {5, 4, 3, 2, 1}\n",
    "print(f'{set1 = }')\n",
    "print(f'{set2 = }')\n",
    "print(f'{set1 <= set2        = }')\n",
    "print(f'{set1.issubset(set2) = }')"
   ]
  },
  {
   "cell_type": "code",
   "execution_count": null,
   "metadata": {},
   "outputs": [],
   "source": [
    "# proper subset\n",
    "set1 = {1, 2, 3, 4, 5}\n",
    "set2 = {5, 4, 3}\n",
    "\n",
    "print(f'{set1 = }')\n",
    "print(f'{set2 = }')\n",
    "print(f'{set1 < set2                            = }')\n",
    "print(f'{(set1.issubset(set2) and set1 != set2) = }\\n')\n",
    "\n",
    "set1 = {3, 5, 1}\n",
    "set2 = {1, 2, 3, 4, 5}\n",
    "print(f'{set1 = }')\n",
    "print(f'{set2 = }')\n",
    "print(f'{set1 < set2                            = }')\n",
    "print(f'{(set1.issubset(set2) and set1 != set2) = }\\n')\n",
    "\n",
    "set1 = {1, 2, 3, 4, 5}\n",
    "set2 = {5, 4, 3, 2, 1}\n",
    "print(f'{set1 = }')\n",
    "print(f'{set2 = }')\n",
    "print(f'{set1 < set2                            = }')\n",
    "print(f'{(set1.issubset(set2) and set1 != set2) = }')"
   ]
  },
  {
   "cell_type": "code",
   "execution_count": null,
   "metadata": {},
   "outputs": [],
   "source": [
    "# superset\n",
    "set1 = {1, 2, 3, 4, 5}\n",
    "set2 = {5, 4, 3}\n",
    "\n",
    "print(f'{set1 = }')\n",
    "print(f'{set2 = }')\n",
    "print(f'{set1 >= set2          = }')\n",
    "print(f'{set1.issuperset(set2) = }\\n')\n",
    "\n",
    "set1 = {3, 5, 1}\n",
    "set2 = {1, 2, 3, 4, 5}\n",
    "print(f'{set1 = }')\n",
    "print(f'{set2 = }')\n",
    "print(f'{set1 >= set2          = }')\n",
    "print(f'{set1.issuperset(set2) = }\\n')\n",
    "\n",
    "set1 = {1, 2, 3, 4, 5}\n",
    "set2 = {5, 4, 3, 2, 1}\n",
    "print(f'{set1 = }')\n",
    "print(f'{set2 = }')\n",
    "print(f'{set1 >= set2          = }')\n",
    "print(f'{set1.issuperset(set2) = }')"
   ]
  },
  {
   "cell_type": "code",
   "execution_count": null,
   "metadata": {},
   "outputs": [],
   "source": [
    "# proper superset\n",
    "set1 = {1, 2, 3, 4, 5}\n",
    "set2 = {5, 4, 3}\n",
    "\n",
    "print(f'{set1 = }')\n",
    "print(f'{set2 = }')\n",
    "print(f'{set1 > set2                              = }')\n",
    "print(f'{(set1.issuperset(set2) and set1 != set2) = }\\n')\n",
    "\n",
    "set1 = {3, 5, 1}\n",
    "set2 = {1, 2, 3, 4, 5}\n",
    "print(f'{set1 = }')\n",
    "print(f'{set2 = }')\n",
    "print(f'{set1 > set2                              = }')\n",
    "print(f'{(set1.issuperset(set2) and set1 != set2) = }\\n')\n",
    "\n",
    "set1 = {1, 2, 3, 4, 5}\n",
    "set2 = {5, 4, 3, 2, 1}\n",
    "print(f'{set1 = }')\n",
    "print(f'{set2 = }')\n",
    "print(f'{set1 > set2                              = }')\n",
    "print(f'{(set1.issuperset(set2) and set1 != set2) = }')"
   ]
  },
  {
   "cell_type": "code",
   "execution_count": null,
   "metadata": {},
   "outputs": [],
   "source": [
    "# update(add elements from all others.)\n",
    "set1 = {1, 2, 3, 4, 5}\n",
    "set2 = {7, 6, 5, 4, 3}\n",
    "\n",
    "print(f'{set1 = }  {(old_id1 := id(set1)) = }')\n",
    "print(f'{set2 = }  {(old_id2 := id(set2)) = }\\n')\n",
    "# set1 |= set2\n",
    "set1.update(set2)\n",
    "print(f'{set1 = }  {(new_id1 := id(set1)) = }')\n",
    "print(f'{set2 = }  {(new_id2 := id(set2)) = }')\n",
    "print(f'{(old_id1 == new_id1) = }')    # True or False?\n",
    "print(f'{(old_id2 == new_id2) = }')    # True"
   ]
  },
  {
   "cell_type": "code",
   "execution_count": null,
   "metadata": {},
   "outputs": [],
   "source": [
    "# intersection_update(keep only elements found in it and all others.)\n",
    "set1 = {1, 2, 3, 4, 5}\n",
    "set2 = {7, 6, 5, 4, 3}\n",
    "\n",
    "print(f'{set1 = }  {(old_id1 := id(set1)) = }')\n",
    "print(f'{set2 = }  {(old_id2 := id(set2)) = }\\n')\n",
    "set1 &= set2\n",
    "print(f'{set1 = }  {(new_id1 := id(set1)) = }')\n",
    "print(f'{set2 = }  {(new_id2 := id(set2)) = }')\n",
    "print(f'{(old_id1 == new_id1) = }')\n",
    "print(f'{(old_id2 == new_id2) = }')"
   ]
  },
  {
   "cell_type": "code",
   "execution_count": null,
   "metadata": {},
   "outputs": [],
   "source": [
    "# difference_update(remove elements found in others.)\n",
    "set1 = {1, 2, 3, 4, 5}\n",
    "set2 = {7, 6, 5, 4, 3}\n",
    "\n",
    "print(f'{set1 = }  {(old_id1 := id(set1)) = }')\n",
    "print(f'{set2 = }  {(old_id2 := id(set2)) = }\\n')\n",
    "set1 -= set2\n",
    "# set1.difference_update(set2)\n",
    "print(f'{set1 = }  {(new_id1 := id(set1)) = }')\n",
    "print(f'{set2 = }  {(new_id2 := id(set2)) = }')\n",
    "print(f'{(old_id1 == new_id1) = }')\n",
    "print(f'{(old_id2 == new_id2) = }')"
   ]
  },
  {
   "cell_type": "code",
   "execution_count": null,
   "metadata": {},
   "outputs": [],
   "source": [
    "# symmetric_difference_update(keep only elements found in either set,\n",
    "# but not in both.)\n",
    "set1 = {1, 2, 3, 4, 5}\n",
    "set2 = {7, 6, 5, 4, 3}\n",
    "\n",
    "print(f'{set1 = }  {(old_id1 := id(set1)) = }')\n",
    "print(f'{set2 = }  {(old_id2 := id(set2)) = }\\n')\n",
    "set1 ^= set2\n",
    "print(f'{set1 = }  {(new_id1 := id(set1)) = }')\n",
    "print(f'{set2 = }  {(new_id2 := id(set2)) = }')\n",
    "print(f'{(old_id1 == new_id1) = }')\n",
    "print(f'{(old_id2 == new_id2) = }')"
   ]
  },
  {
   "cell_type": "markdown",
   "metadata": {},
   "source": [
    "<div style=\"text-align:center\"><img src=\"https://hackmd.io/_uploads/ryRk_EdwT.jpg\" width=\"400\"/></div>"
   ]
  },
  {
   "cell_type": "markdown",
   "metadata": {},
   "source": [
    "<div style=\"color: DarkSalmon; font-family: 'Ubuntu Mono', 'Inconsolata', 'Noto Sans TC'; font-size: 250%; font-weight: 700;\">\n",
    "set的其他方法\n",
    "</div>\n",
    "<br>\n",
    "<div style=\"font-family: 'Inconsolata', 'Noto Sans TC'; font-size: 135%; color: Gainsboro\">\n",
    "\n",
    "* 除了以上的運算外，set還有好幾個方法可用。這些方法沒有對應的運算子：\n",
    "    <div style=\"font-family: 'Inconsolata', 'Noto Sans TC'; font-size: 90%; color: Gainsboro\">\n",
    "    \n",
    "    |方法|說明|備註|\n",
    "    |--|--|--|\n",
    "    |add(elem)|新增元素||\n",
    "    |remove(elem)|刪除元素|Raises KeyError if<br>elem is not contained<br>in the set.|\n",
    "    |discard(elem)|刪除元素|Remove element elem<br>from the set if it<br>is present.|\n",
    "    |pop()|Remove and return an<br>arbitrary element<br>from the set.|Raises KeyError if<br>the set is empty.|\n",
    "    |clear()|Remove all elements<br>from the set.||\n",
    "    |isdisjoint(self, other)|Return True if the<br>set has no elements in<br>common with other. |Sets are disjoint if<br>and only if their<br>intersection is the<br>empty set.|\n",
    "    |copy()|Return a shallow copy<br>of the set.||\n",
    "    </div>\n",
    "* 一開始講set特性時有提到不能修改元素的值，所以沒有replace()方法。\n",
    "\n",
    "</div>"
   ]
  },
  {
   "cell_type": "code",
   "execution_count": null,
   "metadata": {},
   "outputs": [],
   "source": [
    "# add()\n",
    "set1 = {8, 2, 6, 9, 3}\n",
    "print(f'Original set             : {set1 = }')\n",
    "set1.add(7)\n",
    "print(f'After adding 7 to the set: {set1 = }')\n",
    "set1.add(5)\n",
    "print(f'After adding 5 to the set: {set1 = }')\n",
    "set1.add([])"
   ]
  },
  {
   "cell_type": "code",
   "execution_count": null,
   "metadata": {},
   "outputs": [],
   "source": [
    "# remove()\n",
    "try:\n",
    "    set1 = {4, 6, 2, 8, 7}\n",
    "    print(f'Original set   : {set1 = }')\n",
    "    set1.remove(8)\n",
    "    print(f'After remove(8): {set1 = }')\n",
    "    set1.remove(0)\n",
    "    print(f'After remove(0): {set1 = }')\n",
    "except KeyError:\n",
    "    print('Cannot remove(0) from the set.')"
   ]
  },
  {
   "cell_type": "code",
   "execution_count": null,
   "metadata": {},
   "outputs": [],
   "source": [
    "# discard()\n",
    "try:\n",
    "    set1 = {4, 6, 2, 8, 7}\n",
    "    print(f'Original set    : {set1 = }')\n",
    "    set1.discard(8)\n",
    "    print(f'After discard(8): {set1 = }')\n",
    "    set1.discard(0)\n",
    "    print(f'After discard(0): {set1 = }')\n",
    "except KeyError:\n",
    "    print('Cannot discard(0) from the set.')\n"
   ]
  },
  {
   "cell_type": "code",
   "execution_count": null,
   "metadata": {},
   "outputs": [],
   "source": [
    "# pop(): Remove and return an arbitrary element from the set.\n",
    "# Raises KeyError if the set is empty.\n",
    "try:\n",
    "    set1 = {2, 5, 0, 6, 1}\n",
    "    print(f'Original set   : {set1 = }')\n",
    "    removed_element = set1.pop()\n",
    "    print(f'Removed element: {removed_element = }')\n",
    "    print(f'After pop : {set1 = }\\n')\n",
    "    removed_element = set1.pop()\n",
    "    print(f'Removed element: {removed_element = }')\n",
    "    print(f'After pop : {set1 = }\\n')\n",
    "    empty_set = set()\n",
    "    # empty_set = {}  # empty dict, NOT empty set\n",
    "    print(f'Original set   : {empty_set = }')\n",
    "    empty_set.pop()\n",
    "    print('hello, world.')\n",
    "except KeyError:\n",
    "    print('Cannot pop from an empty set.')"
   ]
  },
  {
   "cell_type": "code",
   "execution_count": null,
   "metadata": {},
   "outputs": [],
   "source": [
    "# clear(): Remove all elements from the set.\n",
    "set1 = {2, 5, 0, 6, 1}\n",
    "print(f'Original set      : {set1 = }')\n",
    "print(f'{set1.clear() = }')\n",
    "print(f'After clear       : {set1 = }')\n",
    "print(f'{set1.clear() = }')\n",
    "print(f'Clear an empty set: {set1 = }')"
   ]
  },
  {
   "cell_type": "code",
   "execution_count": null,
   "metadata": {},
   "outputs": [],
   "source": [
    "# isdisjoint(): checks if two sets have no elements in common.\n",
    "set1 = {1, 2, 3, 4, 5}\n",
    "set2 = {6, 7, 8}\n",
    "# set1.isdisjoint(set2)  # Using method\n",
    "print(f'{set1 = }')\n",
    "print(f'{set2 = }')\n",
    "print(f'{set1.isdisjoint(set2) = }\\n')\n",
    "\n",
    "set1 = {1, 2, 3, 4, 5}\n",
    "set2 = {6, 7, 8, 2}\n",
    "# set1.isdisjoint(set2)  # Using method\n",
    "print(f'{set1 = }')\n",
    "print(f'{set2 = }')\n",
    "print(f'{set1.isdisjoint(set2) = }\\n')"
   ]
  },
  {
   "cell_type": "code",
   "execution_count": null,
   "metadata": {},
   "outputs": [],
   "source": [
    "# copy()\n",
    "old_set = {1, 2, 3}\n",
    "print('Before copy:')\n",
    "print(f'  {old_set = }\\t{id(old_set) = }')\n",
    "new_set = old_set.copy()\n",
    "print('After copy:')\n",
    "print(f'  {old_set = }\\t{id(old_set) = }')\n",
    "print(f'  {new_set = }\\t{id(new_set) = }')"
   ]
  },
  {
   "cell_type": "markdown",
   "metadata": {},
   "source": [
    "<div style=\"text-align:center\"><img src=\"https://hackmd.io/_uploads/S1ZVMQOP6.png\" width=\"500\"/></div>"
   ]
  },
  {
   "cell_type": "markdown",
   "metadata": {},
   "source": [
    "<div style=\"color: SteelBlue; font-family: 'Ubuntu Mono', 'Inconsolata', 'Noto Sans TC'; font-size: 300%; font-weight: 700;\">\n",
    "開始實作一個自訂的set\n",
    "</div>\n",
    "<br>\n",
    "<div style=\"font-family: 'Inconsolata', 'Noto Sans TC'; font-size: 135%; color: Gainsboro\">\n",
    "\n",
    "* set的內建方法，有些小地方得注意：\n",
    "    * add()方法新增unhashable物件時會產生exception。\n",
    "    * remove()方法欲刪除的元素為unhashabl或不在原set之中，都會產生exception(不同的exception)。\n",
    "    * discard()方法欲刪除的元素為unhashable時，會產生exception。\n",
    "    * pop()方法用在空set上會產生exception。\n",
    "    * 沒有replace()方法。"
   ]
  },
  {
   "cell_type": "code",
   "execution_count": null,
   "metadata": {},
   "outputs": [],
   "source": [
    "# add()\n",
    "set1 = {6, 4, 9, 3, 0}\n",
    "print(set1)\n",
    "# set1.add('A')\n",
    "# print(set1)\n",
    "# 新增unhashable物件時會產生exception\n",
    "set1.add(())    # {} -> 空dict    空set -> set()\n",
    "print(set1)"
   ]
  },
  {
   "cell_type": "code",
   "execution_count": null,
   "metadata": {},
   "outputs": [],
   "source": [
    "type(())"
   ]
  },
  {
   "cell_type": "code",
   "execution_count": null,
   "metadata": {},
   "outputs": [],
   "source": [
    "# remove()\n",
    "set1 = {6, 4, 9, 3, 0}\n",
    "print(set1)\n",
    "# set1.remove(3)\n",
    "# print(set1)\n",
    "# 欲remove unhashable物件時會產生exception。\n",
    "# set1.remove([])\n",
    "# 欲remove不在原set之中物件會產生exception。\n",
    "set1.remove(1)"
   ]
  },
  {
   "cell_type": "code",
   "execution_count": null,
   "metadata": {},
   "outputs": [],
   "source": [
    "# discard()\n",
    "set1 = {6, 4, 9, 3, 0}\n",
    "print(set1)\n",
    "# set1.discard(3)\n",
    "# print(set1)\n",
    "# discard unhashable物件會產生exception。\n",
    "# set1.discard([])\n",
    "# discard不在原set之中物件倒不會產生exception。\n",
    "set1.discard(1)\n",
    "print(set1)"
   ]
  },
  {
   "cell_type": "code",
   "execution_count": null,
   "metadata": {},
   "outputs": [],
   "source": [
    "# pop()\n",
    "# set1 = {6, 4, 9, 3, 0}\n",
    "# print(set1)\n",
    "# set1.pop()\n",
    "# print(set1)\n",
    "# pop()空set會產生exception。\n",
    "set1 = set()\n",
    "print(set1)\n",
    "set1.pop()"
   ]
  },
  {
   "cell_type": "markdown",
   "metadata": {},
   "source": [
    "<div style=\"text-align:center\"><img src=\"https://hackmd.io/_uploads/B1tU5-T_6.png\" width=\"800\"/></div>"
   ]
  },
  {
   "cell_type": "markdown",
   "metadata": {},
   "source": [
    "<div style=\"color: SteelBlue; font-family: 'Ubuntu Mono', 'Inconsolata', 'Noto Sans TC'; font-size: 300%; font-weight: 700;\">\n",
    "自訂set的規格\n",
    "</div>\n",
    "<br>\n",
    "<div style=\"font-family: 'Inconsolata', 'Noto Sans TC'; font-size: 135%; color: Gainsboro\">\n",
    "\n",
    "* 以下筆者試圖創建一個自訂的set類別，看能否修改上述情形，達到筆者希望的效果。\n",
    "* class名稱：`RobustSet`\n",
    "* 新增功能：\n",
    "    * replace()方法。\n",
    "* 加強功能：\n",
    "    * add()方法新增的元素如果是unhashable，不會產生exception而是略過。可以一次新增多個values，也允許不傳入參數。傳回值改為int，代表實際新增的元素個數。\n",
    "    * remove()方法可以一次刪除多個values，也允許不傳入參數。欲刪除元素為unhashable或不在原set中，都不會產生exception。傳回值改為int，代表實際刪除的元素個數。\n",
    "    * discard()方法可以一次刪除多個values，亦允許不傳入參數。欲刪除元素為unhashable時不會產生exception。傳回值則維持standard set原本的None。\n",
    "    * pop()一個空set不會產生exception。\n",
    "* 其餘方法和運算子功能和standard set相同。    "
   ]
  },
  {
   "cell_type": "markdown",
   "metadata": {},
   "source": [
    "<div style=\"text-align:center\"><img src=\"https://hackmd.io/_uploads/SyI5hFsS3.png\" width=\"400\"/></div>"
   ]
  },
  {
   "cell_type": "code",
   "execution_count": null,
   "metadata": {},
   "outputs": [],
   "source": [
    "[x, y] = 2, 3\n",
    "x\n",
    "y"
   ]
  },
  {
   "cell_type": "code",
   "execution_count": 10,
   "metadata": {},
   "outputs": [
    {
     "name": "stdout",
     "output_type": "stream",
     "text": [
      "Oh, no\n"
     ]
    }
   ],
   "source": [
    "a = 3\n",
    "b = 5\n",
    "x = [7, 4]\n",
    "t = ([], b > 4, b not in x)\n",
    "if all(t):\n",
    "    print('Bingo')\n",
    "else:\n",
    "    print('Oh, no')"
   ]
  },
  {
   "cell_type": "code",
   "execution_count": 17,
   "metadata": {},
   "outputs": [],
   "source": [
    "class RobustSet(set):\n",
    "    # def __init__(self, s: set):\n",
    "    #     super().__init__()\n",
    "    #     self.__set = s\n",
    "\n",
    "    def __init__(self, s: set):\n",
    "        super().__init__(s)  # Initialize the set with elements of s\n",
    "\n",
    "    def __str__(self) -> str:\n",
    "        # return str(self)\n",
    "        return str(set(self))  # Convert to set for string representation\n",
    "\n",
    "    def __repr__(self) -> str:\n",
    "        return str(set(self))  # Convert to set for representation\n",
    "\n",
    "    # new methods\n",
    "    def replace(self, old: object, new: object) -> bool:\n",
    "        '''\n",
    "        feature: replace element\n",
    "            1. if `old` is unhashable, do nothing and return False.\n",
    "            2. if `new` is unhashable, do nothing and return False.\n",
    "            3. if `old` is not in the set, do nothing and return False.\n",
    "            4. if both `old` and `new` are in the set, do nothing and return False.\n",
    "            5. otherwise replace `old` with `new` and return True。\n",
    "        '''\n",
    "        if RobustSet.is_hashable(old) and RobustSet.is_hashable(new) and (old in self) and (new not in self):\n",
    "            # self.remove(old)\n",
    "            # self.add(new)\n",
    "            super().remove(old)\n",
    "            super().add(new)\n",
    "            return_value = True\n",
    "        else:\n",
    "            return_value = False\n",
    "        return return_value\n",
    "\n",
    "    # modified methods\n",
    "    def add(self, *elements: object) -> int:\n",
    "        '''\n",
    "        Add multiple elements to the set, ignoring unhashable ones.\n",
    "        Returns the number of elements actually added.\n",
    "\n",
    "        Args:\n",
    "            elements (object): Elements to add to the set.\n",
    "\n",
    "        Returns:\n",
    "            int: Number of elements actually added.\n",
    "        '''\n",
    "        len_self_old = len(self)\n",
    "        for element in elements:\n",
    "            if RobustSet.is_hashable(element):\n",
    "                super().add(element)\n",
    "        return len(self) - len_self_old\n",
    "\n",
    "    def remove(self, *elements: object) -> int:\n",
    "        '''\n",
    "        Either more than one removing element or no element is allowed.\n",
    "        No exception if the removing element is unhashable or not in the set.\n",
    "        returns: int reprsenting the amount of actual removed elements.\n",
    "        '''\n",
    "        len_self_old = len(self)\n",
    "        for element in elements:\n",
    "            if RobustSet.is_hashable(element):\n",
    "                super().discard(element)\n",
    "        return len_self_old - len(self)\n",
    "\n",
    "    def discard(self, *elements: object) -> None:\n",
    "        '''\n",
    "        Either more than one discarding element or no element is allowed.\n",
    "        No exception if the discarding element is unhashable.\n",
    "        returns: None\n",
    "        '''\n",
    "        for element in elements:\n",
    "            if RobustSet.is_hashable(element):\n",
    "                super().discard(element)\n",
    "        return None\n",
    "\n",
    "    def pop(self) -> object:\n",
    "        \"\"\"\n",
    "        Remove and return an arbitrary set element.\n",
    "        If the set is empty, do nothing and return None.\n",
    "\n",
    "        Returns:\n",
    "            The removed element if the set is not empty, otherwise None.\n",
    "        \"\"\"\n",
    "        import random\n",
    "        if not self:  # Check if the set is empty\n",
    "            return None\n",
    "        self_t = tuple(self)\n",
    "        popped = self_t[random.randint(0, len(self_t) - 1)]\n",
    "        super().remove(popped)\n",
    "        return popped\n",
    "\n",
    "    # unmodified methods\n",
    "    # def isdisjoint(self, other):    # 以string literal作為傳回值的type hint\n",
    "    #     print(f'{other = }')\n",
    "    #     return RobustSet(super().isdisjoint(other))\n",
    "\n",
    "    # def issubset(self, other):\n",
    "    #     return RobustSet(super().issubset(self, other))\n",
    "\n",
    "    # def issuperset(self, other):\n",
    "    #     return RobustSet(super().issuperset(self, other))\n",
    "\n",
    "    # def union(self, *others):\n",
    "    #     return RobustSet(super().union(self, *others))\n",
    "\n",
    "    # def intersection(self, *others):\n",
    "    #     return RobustSet(super().intersection(self, *others))\n",
    "\n",
    "    # def difference(self, *others):\n",
    "    #     return RobustSet(super().difference(self, *others))\n",
    "\n",
    "    # def symmetric_difference(self, other):\n",
    "    #     return RobustSet(super().symmetric_difference(self, other))\n",
    "\n",
    "    # def update(self, *others):\n",
    "    #     return RobustSet(super().self, *others)\n",
    "\n",
    "    # def intersection_update(self, *others):\n",
    "    #     return RobustSet(super().intersection_update(self, *others))\n",
    "\n",
    "    # def difference_update(self, *others):\n",
    "    #     return RobustSet(super().difference_update(self, *others))\n",
    "\n",
    "    # def symmetric_difference_update(self, other):\n",
    "    #     return RobustSet(super().symmetric_difference_update(self, other))\n",
    "\n",
    "    # def clear(self):\n",
    "    #     # return RobustSet(super().clear())\n",
    "    #     super().clear()\n",
    "    #     return self\n",
    "\n",
    "    # operators\n",
    "    # def __or__(self, other: set) -> 'RobustSet':\n",
    "    #     # Override union operation\n",
    "    #     return RobustSet(super().__or__(self, other))\n",
    "\n",
    "    # def __and__(self, other: set) -> 'RobustSet':\n",
    "    #     # Override intersection operation\n",
    "    #     return RobustSet(super().__and__(self, other))\n",
    "\n",
    "    # def __sub__(self, other: set) -> 'RobustSet':\n",
    "    #     # Override difference operation\n",
    "    #     return RobustSet(super().__sub__(self, other))\n",
    "\n",
    "    # def __xor__(self, other: set) -> 'RobustSet':\n",
    "    #     # Override symmetric difference operation\n",
    "    #     return RobustSet(super().__xor__(self, other))\n",
    "\n",
    "    # def __le__(self, other: set) -> bool:\n",
    "    #     # Override subset operation\n",
    "    #     return super().__le__(self, other)\n",
    "\n",
    "    # def __lt__(self, other: set) -> bool:\n",
    "    #     # Override proper subset operation\n",
    "    #     return super().__lt__(self, other)\n",
    "\n",
    "    # def __ge__(self, other: set) -> bool:\n",
    "    #     # Override superset operation\n",
    "    #     return super().__ge__(self, other)\n",
    "\n",
    "    # def __gt__(self, other: set) -> bool:\n",
    "    #     # Override proper superset operation\n",
    "    #     return super().__gt__(self, other)\n",
    "\n",
    "    # def __ior__(self, other: set) -> 'RobustSet':\n",
    "    #     # Override update with union operation\n",
    "    #     super().__ior__(self, other)\n",
    "    #     return self\n",
    "\n",
    "    # def __iand__(self, other: set) -> 'RobustSet':\n",
    "    #     # Override update with intersection operation\n",
    "    #     super().__iand__(self, other)\n",
    "    #     return self\n",
    "\n",
    "    # def __isub__(self, other: set) -> 'RobustSet':\n",
    "    #     # Override update with difference operation\n",
    "    #     super().__isub__(self, other)\n",
    "    #     return self\n",
    "\n",
    "    # def __ixor__(self, other: set) -> 'RobustSet':\n",
    "    #     # Override update with symmetric difference operation\n",
    "    #     super().__ixor__(self, other)\n",
    "    #     return self\n",
    "\n",
    "    @staticmethod     # 靜態方法\n",
    "    def is_hashable(obj: object) -> bool:\n",
    "        \"\"\"\n",
    "        Check if an object is hashable.\n",
    "\n",
    "        Args:\n",
    "        obj (object): The object to check.\n",
    "\n",
    "        Returns:\n",
    "        bool: True if the object is hashable, False otherwise.\n",
    "        \"\"\"\n",
    "        return_value: bool = True\n",
    "        try:\n",
    "            hash(obj)\n",
    "        except TypeError:\n",
    "            return_value = False\n",
    "        finally:\n",
    "            return return_value"
   ]
  },
  {
   "cell_type": "markdown",
   "metadata": {},
   "source": [
    "<div style=\"color: DarkSalmon; font-family: 'Ubuntu Mono', 'Inconsolata', 'Noto Sans TC'; font-size: 250%; font-weight: 700;\">\n",
    "static methods\n",
    "</div>\n",
    "<br>\n",
    "<div style=\"font-family: 'Inconsolata', 'Noto Sans TC'; font-size: 135%; color: Gainsboro\">\n",
    "\n",
    "* [大觀園的妙玉](https://ithelp.ithome.com.tw/articles/10303123)"
   ]
  },
  {
   "cell_type": "code",
   "execution_count": null,
   "metadata": {},
   "outputs": [],
   "source": [
    "# 示範如何使用static methods(及class methods)。\n",
    "RobustSet.is_hashable({})\n",
    "RobustSet({}).is_hashable({})"
   ]
  },
  {
   "cell_type": "code",
   "execution_count": null,
   "metadata": {},
   "outputs": [],
   "source": [
    "# 沒有被overridden的運算子\n",
    "set1 = RobustSet({1, 2, 3})\n",
    "set2 = RobustSet({3, 5, 7})\n",
    "print(f'{set1 = }{' '*8}{set2 = }')\n",
    "print(f'{set1 | set2 = }')    # union(聯集)\n",
    "print(f'{set1 & set2 = }')    # intersection(交集)\n",
    "print(f'{set1 - set2 = }')    # difference(差集)\n",
    "print(f'{set1 ^ set2 = }')    # symmetric difference(對稱差)"
   ]
  },
  {
   "cell_type": "code",
   "execution_count": null,
   "metadata": {},
   "outputs": [],
   "source": [
    "# 沒有被overridden的方法: issubset(), issuperset(), ...\n",
    "set1 = RobustSet({1, 2, 3, 4, 5})\n",
    "set2 = RobustSet({2, 3, 5})\n",
    "print(f'{set1 = }{' '*8}{set2 = }')\n",
    "print(f'{set1.issubset(set2) = }')   # set1是否set2的子集\n",
    "print(f'{set2.issubset(set1) = }')   # set2是否set1的子集\n",
    "\n",
    "print(f'{set1.issuperset(set2) = }')   # set1是否set2的超集\n",
    "print(f'{set2.issuperset(set1) = }')   # set2是否set1的超集"
   ]
  },
  {
   "cell_type": "code",
   "execution_count": null,
   "metadata": {},
   "outputs": [],
   "source": [
    "# 呼叫overridden的add()\n",
    "set1 = RobustSet({1, 8, 7, 0, 9, 3})\n",
    "print(f'{set1 = }')\n",
    "set1.add(4, [8], -0, {1}, '9', 4, 3, 2, 3, (6), (6,))\n",
    "print(f'{set1 = }')\n",
    "set1.add()\n",
    "print(f'{set1 = }')"
   ]
  },
  {
   "cell_type": "code",
   "execution_count": null,
   "metadata": {},
   "outputs": [],
   "source": [
    "# 呼叫overridden的remove方法\n",
    "set1 = RobustSet({1, 8, 7, 0, 9, 3})\n",
    "print(f'{set1 = }')\n",
    "# print(f'{set1.remove(3, 8) = }')\n",
    "# print(f'{set1 = }')\n",
    "print(f'{set1.remove({}) = }')\n",
    "print(f'{set1 = }')\n",
    "print(f'{set1.remove() = }')\n",
    "print(f'{set1 = }')\n"
   ]
  },
  {
   "cell_type": "code",
   "execution_count": null,
   "metadata": {},
   "outputs": [],
   "source": [
    "# 呼叫overridden的discard方法\n",
    "set1 = RobustSet({1, 8, 7, 0, 9, 3})\n",
    "print(f'{set1 = }')\n",
    "# print(f'{set1.discard(3, 8) = }')\n",
    "# print(f'{set1 = }')\n",
    "print(f'{set1.discard({}) = }')\n",
    "print(f'{set1 = }')\n",
    "print(f'{set1.discard() = }')\n",
    "print(f'{set1 = }')"
   ]
  },
  {
   "cell_type": "code",
   "execution_count": null,
   "metadata": {},
   "outputs": [],
   "source": [
    "# 呼叫overridden的pop()\n",
    "set1 = RobustSet({7, 4, 2})\n",
    "print(set1)\n",
    "set1.pop()\n",
    "print(set1)\n",
    "set1.pop()\n",
    "print(set1)\n",
    "set1.pop()\n",
    "print(set1)\n",
    "set1.pop()\n",
    "print(set1)"
   ]
  },
  {
   "cell_type": "code",
   "execution_count": 13,
   "metadata": {},
   "outputs": [
    {
     "name": "stdout",
     "output_type": "stream",
     "text": [
      "set1 = {0, 1, 3, 7, 8, 9}\n"
     ]
    },
    {
     "data": {
      "text/plain": [
       "True"
      ]
     },
     "execution_count": 13,
     "metadata": {},
     "output_type": "execute_result"
    },
    {
     "name": "stdout",
     "output_type": "stream",
     "text": [
      "set1 = {1, 'Alex', 3, 7, 8, 9}\n"
     ]
    },
    {
     "ename": "TypeError",
     "evalue": "unhashable type: 'list'",
     "output_type": "error",
     "traceback": [
      "\u001b[0;31m---------------------------------------------------------------------------\u001b[0m",
      "\u001b[0;31mTypeError\u001b[0m                                 Traceback (most recent call last)",
      "Cell \u001b[0;32mIn[13], line 6\u001b[0m\n\u001b[1;32m      4\u001b[0m set1\u001b[38;5;241m.\u001b[39mreplace(\u001b[38;5;241m0\u001b[39m, \u001b[38;5;124m'\u001b[39m\u001b[38;5;124mAlex\u001b[39m\u001b[38;5;124m'\u001b[39m)\n\u001b[1;32m      5\u001b[0m \u001b[38;5;28mprint\u001b[39m(\u001b[38;5;124mf\u001b[39m\u001b[38;5;124m'\u001b[39m\u001b[38;5;132;01m{\u001b[39;00mset1\u001b[38;5;250m \u001b[39m\u001b[38;5;132;01m= }\u001b[39;00m\u001b[38;5;124m'\u001b[39m)\n\u001b[0;32m----> 6\u001b[0m \u001b[43mset1\u001b[49m\u001b[38;5;241;43m.\u001b[39;49m\u001b[43mreplace\u001b[49m\u001b[43m(\u001b[49m\u001b[43m[\u001b[49m\u001b[43m]\u001b[49m\u001b[43m,\u001b[49m\u001b[43m \u001b[49m\u001b[38;5;124;43m'\u001b[39;49m\u001b[38;5;124;43mAlex\u001b[39;49m\u001b[38;5;124;43m'\u001b[39;49m\u001b[43m)\u001b[49m\n\u001b[1;32m      7\u001b[0m \u001b[38;5;28mprint\u001b[39m(\u001b[38;5;124mf\u001b[39m\u001b[38;5;124m'\u001b[39m\u001b[38;5;132;01m{\u001b[39;00mset1\u001b[38;5;250m \u001b[39m\u001b[38;5;132;01m= }\u001b[39;00m\u001b[38;5;124m'\u001b[39m)\n\u001b[1;32m      8\u001b[0m set1\u001b[38;5;241m.\u001b[39mreplace(\u001b[38;5;241m8\u001b[39m, [])\n",
      "Cell \u001b[0;32mIn[12], line 26\u001b[0m, in \u001b[0;36mRobustSet.replace\u001b[0;34m(self, old, new)\u001b[0m\n\u001b[1;32m     17\u001b[0m \u001b[38;5;28;01mdef\u001b[39;00m \u001b[38;5;21mreplace\u001b[39m(\u001b[38;5;28mself\u001b[39m, old: \u001b[38;5;28mobject\u001b[39m, new: \u001b[38;5;28mobject\u001b[39m) \u001b[38;5;241m-\u001b[39m\u001b[38;5;241m>\u001b[39m \u001b[38;5;28mbool\u001b[39m:\n\u001b[1;32m     18\u001b[0m \u001b[38;5;250m    \u001b[39m\u001b[38;5;124;03m'''\u001b[39;00m\n\u001b[1;32m     19\u001b[0m \u001b[38;5;124;03m    feature: replace element\u001b[39;00m\n\u001b[1;32m     20\u001b[0m \u001b[38;5;124;03m        1. if `old` is unhashable, do nothing and return False.\u001b[39;00m\n\u001b[0;32m   (...)\u001b[0m\n\u001b[1;32m     24\u001b[0m \u001b[38;5;124;03m        5. otherwise replace `old` with `new` and return True。\u001b[39;00m\n\u001b[1;32m     25\u001b[0m \u001b[38;5;124;03m    '''\u001b[39;00m\n\u001b[0;32m---> 26\u001b[0m     conditions \u001b[38;5;241m=\u001b[39m [RobustSet\u001b[38;5;241m.\u001b[39mis_hashable(old), RobustSet\u001b[38;5;241m.\u001b[39mis_hashable(new), \u001b[43mold\u001b[49m\u001b[43m \u001b[49m\u001b[38;5;129;43;01min\u001b[39;49;00m\u001b[43m \u001b[49m\u001b[38;5;28;43mself\u001b[39;49m, new \u001b[38;5;129;01mnot\u001b[39;00m \u001b[38;5;129;01min\u001b[39;00m \u001b[38;5;28mself\u001b[39m]\n\u001b[1;32m     27\u001b[0m     \u001b[38;5;66;03m# if all(conditions):\u001b[39;00m\n\u001b[1;32m     28\u001b[0m     \u001b[38;5;28;01mif\u001b[39;00m RobustSet\u001b[38;5;241m.\u001b[39mis_hashable(old) \u001b[38;5;129;01mand\u001b[39;00m RobustSet\u001b[38;5;241m.\u001b[39mis_hashable(new) \u001b[38;5;129;01mand\u001b[39;00m (old \u001b[38;5;129;01min\u001b[39;00m \u001b[38;5;28mself\u001b[39m) \u001b[38;5;129;01mand\u001b[39;00m (new \u001b[38;5;129;01mnot\u001b[39;00m \u001b[38;5;129;01min\u001b[39;00m \u001b[38;5;28mself\u001b[39m):\n\u001b[1;32m     29\u001b[0m         \u001b[38;5;66;03m# self.remove(old)\u001b[39;00m\n\u001b[1;32m     30\u001b[0m         \u001b[38;5;66;03m# self.add(new)\u001b[39;00m\n",
      "\u001b[0;31mTypeError\u001b[0m: unhashable type: 'list'"
     ]
    }
   ],
   "source": [
    "# 呼叫新增的replace()。\n",
    "set1 = RobustSet({1, 8, 7, 0, 9, 3})\n",
    "print(f'{set1 = }')\n",
    "set1.replace(0, 'Alex')\n",
    "print(f'{set1 = }')\n",
    "set1.replace([], 'Alex')\n",
    "print(f'{set1 = }')\n",
    "set1.replace(8, [])\n",
    "print(f'{set1 = }')\n",
    "set1.replace(99, 3)\n",
    "print(f'{set1 = }')\n",
    "set1.replace(3, 3)\n",
    "print(f'{set1 = }')\n",
    "set1.replace(9, 3)\n",
    "print(f'{set1 = }')"
   ]
  },
  {
   "cell_type": "markdown",
   "metadata": {},
   "source": [
    "<div style=\"color: DarkSalmon; font-family: 'Ubuntu Mono', 'Inconsolata', 'Noto Sans TC'; font-size: 250%; font-weight: 700;\">\n",
    "Type Hinting小討論\n",
    "</div>\n",
    "<br>\n",
    "<div style=\"font-family: 'Inconsolata', 'Noto Sans TC'; font-size: 135%; color: Gainsboro\">\n",
    "\n",
    "* 以string literal作為函數傳回值的type hint(例如本例的`def xxx(self) -> 'RobustSet':`)，稱為forward reference，是從Python 3.5推出type hinting就有的功能。\n",
    "* forward reference的說明：\n",
    "    <div style=\"font-family: 'Inconsolata SemiCondensed', 'Noto Sans TC'; font-size: 90%; color: Wheat\">\n",
    "    \n",
    "    > A forward reference is a reference to a class that has not yet been fully defined at the point where the reference is made. In the context of your RobustSet class, when the methods like __or__, __and__, etc., are being defined, the RobustSet class itself is still in the process of being defined. The Python interpreter has not yet fully recognized the RobustSet class as a type because its definition is not complete.\n",
    "    \n",
    "    > If we were to use RobustSet directly as a type hint within the class body, Python would raise a NameError because it doesn't yet know about the RobustSet class at the time it's parsing those method definitions.\n",
    "\n",
    "    > To solve this issue, Python allows the use of string literals for type hints in such scenarios. By putting the class name in quotes ('RobustSet'), we are effectively deferring the evaluation of the type hint until the entire class has been defined. At runtime, when the type hints are actually evaluated, Python will already know about the RobustSet class, and the forward reference will resolve correctly.\n",
    "    \n",
    "    > This is particularly useful and often necessary for classes that reference themselves in their method signatures, as is the case with many container or collection classes like your RobustSet.</div>\n",
    "* Starting from Python 3.7, you can also use the from __future__ import annotations import to automatically treat all type hints as string literals. This can be useful to avoid the verbose use of string literals in such cases. However, being explicit with string literals, as in your code, ensures compatibility with older versions of Python and can sometimes be clearer to readers who are not familiar with the future import's effect on type hints.\n"
   ]
  }
 ],
 "metadata": {
  "kernelspec": {
   "display_name": "Python 3",
   "language": "python",
   "name": "python3"
  },
  "language_info": {
   "codemirror_mode": {
    "name": "ipython",
    "version": 3
   },
   "file_extension": ".py",
   "mimetype": "text/x-python",
   "name": "python",
   "nbconvert_exporter": "python",
   "pygments_lexer": "ipython3",
   "version": "3.12.1"
  }
 },
 "nbformat": 4,
 "nbformat_minor": 2
}
