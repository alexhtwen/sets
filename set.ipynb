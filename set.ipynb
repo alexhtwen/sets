{
 "cells": [
  {
   "cell_type": "markdown",
   "metadata": {},
   "source": [
    "<div style=\"font-family: 'Gen Jyuu Gothic Monospace Medium', 'Noto Sans TC', 'Inconsolata'; font-size: 600%; font-weight: 700; text-align: center; color: DarkSeaGreen;\">\n",
    "自訂set實作\n",
    "</div>\n",
    "\n",
    "<div style=\"font-family: 'Inconsolata', 'Noto Sans TC'; font-size: 135%; color: Gainsboro\">\n",
    "\n",
    "* 實作完整的set談何容易，要顧及的底層細節非常多，很可能超出筆者的能力。\n",
    "* 所以本文的自訂set，只是修改Python set的一小部分，練功成份大於實用。\n",
    "\n",
    "</div>\n",
    "<br><br>"
   ]
  },
  {
   "cell_type": "code",
   "execution_count": null,
   "metadata": {},
   "outputs": [],
   "source": [
    "# from colors import Colors\n",
    "# import random as rd\n",
    "\n",
    "# print(f'{Colors.Fore.MAGENTA}{Colors.Back.YELLOW}*黃底洋紅字*')\n",
    "# print(f'\\033[38;2;229;198;105m**設定輸出顏色**')\n",
    "# print(f'\\033[38;2;255;215;0mGold Gold')\n",
    "# print(f'{chr(27)}[38;2;{(r := rd.randint(0, 255))};{(g := rd.randint(0, 255))};{(b := rd.randint(0, 255))}m\\x1b[48;2;{r};{g};{b}mHello, world.')\n"
   ]
  },
  {
   "cell_type": "code",
   "execution_count": null,
   "metadata": {},
   "outputs": [],
   "source": [
    "%%javascript\n",
    "// 設定output文字顏色\n",
    "document.styleSheets[0].addRule('body', 'color: #E594BD !important;')"
   ]
  },
  {
   "cell_type": "code",
   "execution_count": null,
   "metadata": {},
   "outputs": [],
   "source": [
    "print('Hello')"
   ]
  },
  {
   "cell_type": "markdown",
   "metadata": {},
   "source": [
    "<div style=\"color: SteelBlue; font-family: 'Ubuntu Mono', 'Inconsolata', 'Noto Sans TC'; font-size: 300%; font-weight: 700;\">\n",
    "先複習Python的set\n",
    "</div>\n",
    "<br>\n",
    "<div style=\"font-family: 'Inconsolata', 'Noto Sans TC'; font-size: 135%; color: Gainsboro\">\n",
    "\n",
    "* set的notation\n",
    "* set的特性\n",
    "* 建立空set\n",
    "* 運算子和方法\n"
   ]
  },
  {
   "cell_type": "markdown",
   "metadata": {},
   "source": [
    "<div style=\"color: DarkSalmon; font-family: 'Ubuntu Mono', 'Inconsolata', 'Noto Sans TC'; font-size: 250%; font-weight: 700;\">\n",
    "set的notation\n",
    "</div>\n",
    "<br>\n",
    "<div style=\"font-family: 'Inconsolata', 'Noto Sans TC'; font-size: 135%; color: Gainsboro\">\n",
    "\n",
    "* set是用大括號(花括弧)`{}`作為前後綴符號，例如：\n",
    "* `elements = {'Python', 'JS', 'C++', 'Java'}`"
   ]
  },
  {
   "cell_type": "markdown",
   "metadata": {},
   "source": [
    "<div style=\"color: DarkSalmon; font-family: 'Ubuntu Mono', 'Inconsolata', 'Noto Sans TC'; font-size: 250%; font-weight: 700;\">\n",
    "set的特性\n",
    "</div>\n",
    "<br>\n",
    "<div style=\"font-family: 'Inconsolata', 'Noto Sans TC'; font-size: 135%; color: Gainsboro\">\n",
    "\n",
    "* 每個元素都是唯一(unique)，不會重複。\n",
    "* 元素的順序無法保證(unordered)。 \n",
    "* 可新增、刪除元素，但不能修改元素的值。\n",
    "* 可用迴圈(通常用for loop)迭代。所以set是`iterable`。\n",
    "* 由於不保證元素位置，set並無索引(index)，當然也沒有切片(slice)。所以set非`sequence`。\n",
    "* set的元素不可以是unhashable物件。"
   ]
  },
  {
   "cell_type": "markdown",
   "metadata": {},
   "source": [
    "<div style=\"text-align:left\"><img src=\"https://hackmd.io/_uploads/BkvFGZjd6.png\" width=\"650\"/></div>"
   ]
  },
  {
   "cell_type": "markdown",
   "metadata": {},
   "source": [
    "<div style=\"color: Turquoise; font-family: 'Ubuntu Mono', 'Inconsolata', 'Noto Sans TC'; font-size: 200%; font-weight: 700;\">\n",
    "補充說明\n",
    "</div>\n",
    "<br>\n",
    "<div style=\"font-family: 'Inconsolata', 'Noto Sans TC'; font-size: 135%; color: Gainsboro\">\n",
    "\n",
    "* `iterable` vs `sequence`：\n",
    "    * `iterable`在這裡是名詞，非形容詞。意指「可迭代的物件」。\n",
    "    * `sequence`是`iterable`的一個「特例」(a more specific type of iterable)，特點是有索引，可以進行切片運算(slicing operations)。\n",
    "    * 從set theory角度看這兩者，可以說`sequences`是`iterables`的subset，`iterables`則是`sequences`的superset。\n",
    "* 我們說某物件是hashable，意思是它有一個`hash value`，這個value在該物件的生命周期內都不會改變。An object is hashable if it has a hash value that does not change during its lifetime.\n",
    "* 一個簡易但不精準的識別hashability方法是：immutable物件大致上是hashable，mutable物件則多半是unhashable。兩者高度相關，但非絕對。誠如ChapGPT所說：\n",
    "    <div style=\"color: LightSkyBlue; font-size: 90%;\">\n",
    "        \n",
    "    > ...while there is a strong correlation between immutability and hashability in Python, the rule is not absolute. Hashability is more about whether an object’s hash value remains constant throughout its lifetime rather than just its mutability or immutability status.\n",
    "    </div>"
   ]
  },
  {
   "cell_type": "code",
   "execution_count": null,
   "metadata": {},
   "outputs": [],
   "source": [
    "from typeutil import is_hashable\n",
    "\n",
    "t1 = (1, 2, 3)    # tuple is immutable\n",
    "is_hashable(t1)\n",
    "\n",
    "t2 = (1, 2, [])   # tuple is immutable\n",
    "is_hashable(t2)\n",
    "\n",
    "is_hashable([])"
   ]
  },
  {
   "cell_type": "code",
   "execution_count": null,
   "metadata": {},
   "outputs": [],
   "source": [
    "t2 = (1, 2, [])\n",
    "t3 = (t2, 1)\n",
    "is_hashable(t3)"
   ]
  },
  {
   "cell_type": "code",
   "execution_count": null,
   "metadata": {},
   "outputs": [],
   "source": [
    "# 每個元素都是唯一(unique)，不會重複。\n",
    "elements = {1, 9, 6, 4, 1, 4, 1}\n",
    "print(f'{elements = }')"
   ]
  },
  {
   "cell_type": "code",
   "execution_count": null,
   "metadata": {},
   "outputs": [],
   "source": [
    "# 元素的順序無法保證(unordered)。\n",
    "elements = {3, 3.1416, '0', None, True, ()}\n",
    "print(f'{elements = }')"
   ]
  },
  {
   "cell_type": "code",
   "execution_count": null,
   "metadata": {},
   "outputs": [],
   "source": [
    "# 可新增、刪除元素，但不能修改元素的值。\n",
    "...   # 稍後詳說\n"
   ]
  },
  {
   "cell_type": "code",
   "execution_count": null,
   "metadata": {},
   "outputs": [],
   "source": [
    "# 可用迴圈迭代。\n",
    "elements = {8, 3, '0', None, True}\n",
    "for element in elements:\n",
    "    print(f'{element = }')"
   ]
  },
  {
   "cell_type": "code",
   "execution_count": null,
   "metadata": {},
   "outputs": [],
   "source": [
    "# 沒有索引(index)和切片(slice)。\n",
    "elements = {0, 1, 2, 3, 4}\n",
    "print(f'{elements = }')\n",
    "# print(elements[1])\n",
    "print(elements[:1])"
   ]
  },
  {
   "cell_type": "code",
   "execution_count": null,
   "metadata": {},
   "outputs": [],
   "source": [
    "# 元素不可以為unhashable物件。\n",
    "# elements = {2, '4', True, None, ()}\n",
    "elements = {2, '4', True, None, (), ((),)}\n",
    "print(f'{elements = }')"
   ]
  },
  {
   "cell_type": "markdown",
   "metadata": {},
   "source": [
    "<div style=\"color: DarkSalmon; font-family: 'Ubuntu Mono', 'Inconsolata', 'Noto Sans TC'; font-size: 250%; font-weight: 700;\">\n",
    "建立空set\n",
    "</div>\n",
    "<br>\n",
    "<div style=\"font-family: 'Inconsolata', 'Noto Sans TC'; font-size: 135%; color: Gainsboro\">\n",
    "\n",
    "* 建立空set請用`set1 = set()`。\n",
    "* 不可以用`set1 = {}`，因為這個寫法是建立空dict而非空set。\n",
    "    * 建立空list可用`list1 = list()`或`list1 = []`。\n",
    "    * 建立空tuple可用`tuple1 = tuple()`或`tuple1 = ()`。\n",
    "    * 建立空dict可用`dict1 = dict()`或`dict1 = {}`。\n",
    "    * 唯獨空set只能用`set()`來建。"
   ]
  },
  {
   "cell_type": "markdown",
   "metadata": {},
   "source": [
    "<div style=\"text-align:center\"><img src=\"https://hackmd.io/_uploads/SyI5hFsS3.png\" width=\"400\"/></div>"
   ]
  },
  {
   "cell_type": "code",
   "execution_count": null,
   "metadata": {},
   "outputs": [],
   "source": [
    "# 建立空set。\n",
    "set1 = set()\n",
    "set2 = {}   # empty dict, NOT empty set\n",
    "\n",
    "print(f'{set1 = }\\t{type(set1) = }')\n",
    "print(f'{set2 = }\\t{type(set2) = }')"
   ]
  },
  {
   "cell_type": "markdown",
   "metadata": {},
   "source": [
    "<div style=\"text-align:center\"><img src=\"https://hackmd.io/_uploads/ryRk_EdwT.jpg\" width=\"400\"/></div>"
   ]
  },
  {
   "cell_type": "markdown",
   "metadata": {},
   "source": [
    "<div style=\"color: DarkSalmon; font-family: 'Ubuntu Mono', 'Inconsolata', 'Noto Sans TC'; font-size: 250%; font-weight: 700;\">\n",
    "運算子和方法\n",
    "</div>\n",
    "<br>\n",
    "<div style=\"font-family: 'Inconsolata', 'Noto Sans TC'; font-size: 135%; color: Gainsboro\">\n",
    "\n",
    "* set提供以下運算子(operators)和對應方法(methods)：\n",
    "    <div style=\"font-family: 'Inconsolata', 'Noto Sans TC'; font-size: 85%; color: Gainsboro\">\n",
    "\n",
    "    |運算子|方法|中文|範例 / 說明|\n",
    "    |--|--|--|--|\n",
    "    |\\||union()|聯集|<ol><li>set1 \\| set2</li><li>set1.union(set2)</li></ol>|\n",
    "    |&|intersection()|交集|<ol><li>set1 & set2</li><li>set1.intersection(set2)|\n",
    "    |-|difference()|差集|<ol><li>set1 - set2</li><li>set1.difference(set2)|\n",
    "    |^|symmetric_difference()|對稱差|<ol><li>set1 ^ set2</li><li>set1.symmetric_difference(set2)|\n",
    "    |<=|issubset()|子集|<ol><li>set1 <= set2</li><li>set1.issubset(set2)|\n",
    "    |<|proper subset<br>(no direct method)|真子集|<ol><li>set1 < set2</li><li>set1.issubset(set2) and<br>set1 != set2|\n",
    "    |>=|issuperset()|超集|<ol><li>set1 >= set2</li><li>set1.issuperset(set2)|\n",
    "    |>|proper superset<br>(no direct method)|真超集|<ol><li>set1 > set2</li><li>set1.issuperset(set2) and<br>set1 != set2|\n",
    "    |\\|=|update()||add elements from all  others.|\n",
    "    |&=|intersection_update()||keep only elements found<br>in it and all others.|\n",
    "    |-=|difference_update()||remove elements found in<br>others.|\n",
    "    |^=|symmetric_difference_update()||keep only elements found in<br>either set, but not in both.|\n",
    "    </div>\n",
    "* 上表最後4項運算子`|=`, `&=`, `-=`, `^=`構成的是statement(指令/敘述)，其餘各項則構成expression(運算式)。\n",
    "* Python的set沒有提供`+`、`*`或`/`運算子。\n",
    "</div>"
   ]
  },
  {
   "cell_type": "code",
   "execution_count": null,
   "metadata": {},
   "outputs": [],
   "source": [
    "# union\n",
    "set1 = {1, 2, 3, 4, 5}\n",
    "set2 = {8, 7, 6, 5, 4}\n",
    "\n",
    "print(f'{set1 = }')\n",
    "print(f'{set2 = }')\n",
    "print(f'{set1 | set2      = }')\n",
    "print(f'{set1.union(set2) = }')\n",
    "print(f'{set1 = }')\n",
    "print(f'{set2 = }')"
   ]
  },
  {
   "cell_type": "code",
   "execution_count": null,
   "metadata": {},
   "outputs": [],
   "source": [
    "# intersection\n",
    "set1 = {1, 2, 3, 4, 5}\n",
    "set2 = {8, 7, 6, 5, 4}\n",
    "\n",
    "print(f'{set1 = }')\n",
    "print(f'{set2 = }')\n",
    "print(f'{set1 & set2             = }')\n",
    "print(f'{set1.intersection(set2) = }')\n",
    "print(f'{set1 = }')\n",
    "print(f'{set2 = }')"
   ]
  },
  {
   "cell_type": "code",
   "execution_count": null,
   "metadata": {},
   "outputs": [],
   "source": [
    "# difference\n",
    "set1 = {1, 2, 3, 4, 5}\n",
    "set2 = {8, 7, 6, 5, 4}\n",
    "\n",
    "print(f'{set1 = }')\n",
    "print(f'{set2 = }')\n",
    "print(f'{set1 - set2           = }')\n",
    "print(f'{set1.difference(set2) = }')\n",
    "print(f'{set1 = }')\n",
    "print(f'{set2 = }')"
   ]
  },
  {
   "cell_type": "code",
   "execution_count": null,
   "metadata": {},
   "outputs": [],
   "source": [
    "# symmetric difference\n",
    "set1 = {1, 2, 3, 4, 5}\n",
    "set2 = {8, 7, 6, 5, 4}\n",
    "\n",
    "print(f'{set1 = }')\n",
    "print(f'{set2 = }')\n",
    "print(f'{set1 ^ set2                     = }')\n",
    "print(f'{set1.symmetric_difference(set2) = }')\n",
    "print(f'{set1 = }')\n",
    "print(f'{set2 = }')"
   ]
  },
  {
   "cell_type": "code",
   "execution_count": null,
   "metadata": {},
   "outputs": [],
   "source": [
    "# subset\n",
    "set1 = {1, 2, 3, 4, 5}\n",
    "set2 = {5, 4, 3}\n",
    "\n",
    "print(f'{set1 = }')\n",
    "print(f'{set2 = }')\n",
    "print(f'{set1 <= set2        = }')\n",
    "print(f'{set1.issubset(set2) = }\\n')\n",
    "\n",
    "set1 = {3, 5, 1}\n",
    "set2 = {1, 2, 3, 4, 5}\n",
    "print(f'{set1 = }')\n",
    "print(f'{set2 = }')\n",
    "print(f'{set1 <= set2        = }')\n",
    "print(f'{set1.issubset(set2) = }\\n')\n",
    "\n",
    "set1 = {1, 2, 3, 4, 5}\n",
    "set2 = {5, 4, 3, 2, 1}\n",
    "print(f'{set1 = }')\n",
    "print(f'{set2 = }')\n",
    "print(f'{set1 <= set2        = }')\n",
    "print(f'{set1.issubset(set2) = }')"
   ]
  },
  {
   "cell_type": "code",
   "execution_count": null,
   "metadata": {},
   "outputs": [],
   "source": [
    "# proper subset\n",
    "set1 = {1, 2, 3, 4, 5}\n",
    "set2 = {5, 4, 3}\n",
    "\n",
    "print(f'{set1 = }')\n",
    "print(f'{set2 = }')\n",
    "print(f'{set1 < set2                            = }')\n",
    "print(f'{(set1.issubset(set2) and set1 != set2) = }\\n')\n",
    "\n",
    "set1 = {3, 5, 1}\n",
    "set2 = {1, 2, 3, 4, 5}\n",
    "print(f'{set1 = }')\n",
    "print(f'{set2 = }')\n",
    "print(f'{set1 < set2                            = }')\n",
    "print(f'{(set1.issubset(set2) and set1 != set2) = }\\n')\n",
    "\n",
    "set1 = {1, 2, 3, 4, 5}\n",
    "set2 = {5, 4, 3, 2, 1}\n",
    "print(f'{set1 = }')\n",
    "print(f'{set2 = }')\n",
    "print(f'{set1 < set2                            = }')\n",
    "print(f'{(set1.issubset(set2) and set1 != set2) = }')"
   ]
  },
  {
   "cell_type": "code",
   "execution_count": null,
   "metadata": {},
   "outputs": [],
   "source": [
    "# superset\n",
    "set1 = {1, 2, 3, 4, 5}\n",
    "set2 = {5, 4, 3}\n",
    "\n",
    "print(f'{set1 = }')\n",
    "print(f'{set2 = }')\n",
    "print(f'{set1 >= set2          = }')\n",
    "print(f'{set1.issuperset(set2) = }\\n')\n",
    "\n",
    "set1 = {3, 5, 1}\n",
    "set2 = {1, 2, 3, 4, 5}\n",
    "print(f'{set1 = }')\n",
    "print(f'{set2 = }')\n",
    "print(f'{set1 >= set2          = }')\n",
    "print(f'{set1.issuperset(set2) = }\\n')\n",
    "\n",
    "set1 = {1, 2, 3, 4, 5}\n",
    "set2 = {5, 4, 3, 2, 1}\n",
    "print(f'{set1 = }')\n",
    "print(f'{set2 = }')\n",
    "print(f'{set1 >= set2          = }')\n",
    "print(f'{set1.issuperset(set2) = }')"
   ]
  },
  {
   "cell_type": "code",
   "execution_count": null,
   "metadata": {},
   "outputs": [],
   "source": [
    "# proper superset\n",
    "set1 = {1, 2, 3, 4, 5}\n",
    "set2 = {5, 4, 3}\n",
    "\n",
    "print(f'{set1 = }')\n",
    "print(f'{set2 = }')\n",
    "print(f'{set1 > set2                              = }')\n",
    "print(f'{(set1.issuperset(set2) and set1 != set2) = }\\n')\n",
    "\n",
    "set1 = {3, 5, 1}\n",
    "set2 = {1, 2, 3, 4, 5}\n",
    "print(f'{set1 = }')\n",
    "print(f'{set2 = }')\n",
    "print(f'{set1 > set2                              = }')\n",
    "print(f'{(set1.issuperset(set2) and set1 != set2) = }\\n')\n",
    "\n",
    "set1 = {1, 2, 3, 4, 5}\n",
    "set2 = {5, 4, 3, 2, 1}\n",
    "print(f'{set1 = }')\n",
    "print(f'{set2 = }')\n",
    "print(f'{set1 > set2                              = }')\n",
    "print(f'{(set1.issuperset(set2) and set1 != set2) = }')"
   ]
  },
  {
   "cell_type": "code",
   "execution_count": null,
   "metadata": {},
   "outputs": [],
   "source": [
    "# update(add elements from all others.)\n",
    "set1 = {1, 2, 3, 4, 5}\n",
    "set2 = {7, 6, 5, 4, 3}\n",
    "\n",
    "print(f'{set1 = }  {(old_id1 := id(set1)) = }')\n",
    "print(f'{set2 = }  {(old_id2 := id(set2)) = }\\n')\n",
    "# set1 |= set2\n",
    "set1.update(set2)\n",
    "print(f'{set1 = }  {(new_id1 := id(set1)) = }')\n",
    "print(f'{set2 = }  {(new_id2 := id(set2)) = }')\n",
    "print(f'{(old_id1 == new_id1) = }')    # True or False?\n",
    "print(f'{(old_id2 == new_id2) = }')    # True"
   ]
  },
  {
   "cell_type": "code",
   "execution_count": null,
   "metadata": {},
   "outputs": [],
   "source": [
    "# intersection_update(keep only elements found in it and all others.)\n",
    "set1 = {1, 2, 3, 4, 5}\n",
    "set2 = {7, 6, 5, 4, 3}\n",
    "\n",
    "print(f'{set1 = }  {(old_id1 := id(set1)) = }')\n",
    "print(f'{set2 = }  {(old_id2 := id(set2)) = }\\n')\n",
    "set1 &= set2\n",
    "print(f'{set1 = }  {(new_id1 := id(set1)) = }')\n",
    "print(f'{set2 = }  {(new_id2 := id(set2)) = }')\n",
    "print(f'{(old_id1 == new_id1) = }')\n",
    "print(f'{(old_id2 == new_id2) = }')"
   ]
  },
  {
   "cell_type": "code",
   "execution_count": null,
   "metadata": {},
   "outputs": [],
   "source": [
    "# difference_update(remove elements found in others.)\n",
    "set1 = {1, 2, 3, 4, 5}\n",
    "set2 = {7, 6, 5, 4, 3}\n",
    "\n",
    "print(f'{set1 = }  {(old_id1 := id(set1)) = }')\n",
    "print(f'{set2 = }  {(old_id2 := id(set2)) = }\\n')\n",
    "set1 -= set2\n",
    "# set1.difference_update(set2)\n",
    "print(f'{set1 = }  {(new_id1 := id(set1)) = }')\n",
    "print(f'{set2 = }  {(new_id2 := id(set2)) = }')\n",
    "print(f'{(old_id1 == new_id1) = }')\n",
    "print(f'{(old_id2 == new_id2) = }')"
   ]
  },
  {
   "cell_type": "code",
   "execution_count": null,
   "metadata": {},
   "outputs": [],
   "source": [
    "# symmetric_difference_update(keep only elements found in either set,\n",
    "# but not in both.)\n",
    "set1 = {1, 2, 3, 4, 5}\n",
    "set2 = {7, 6, 5, 4, 3}\n",
    "\n",
    "print(f'{set1 = }  {(old_id1 := id(set1)) = }')\n",
    "print(f'{set2 = }  {(old_id2 := id(set2)) = }\\n')\n",
    "set1 ^= set2\n",
    "print(f'{set1 = }  {(new_id1 := id(set1)) = }')\n",
    "print(f'{set2 = }  {(new_id2 := id(set2)) = }')\n",
    "print(f'{(old_id1 == new_id1) = }')\n",
    "print(f'{(old_id2 == new_id2) = }')"
   ]
  },
  {
   "cell_type": "markdown",
   "metadata": {},
   "source": [
    "<div style=\"text-align:center\"><img src=\"https://hackmd.io/_uploads/ryRk_EdwT.jpg\" width=\"400\"/></div>"
   ]
  },
  {
   "cell_type": "markdown",
   "metadata": {},
   "source": [
    "<div style=\"color: DarkSalmon; font-family: 'Ubuntu Mono', 'Inconsolata', 'Noto Sans TC'; font-size: 250%; font-weight: 700;\">\n",
    "set的其他方法\n",
    "</div>\n",
    "<br>\n",
    "<div style=\"font-family: 'Inconsolata', 'Noto Sans TC'; font-size: 135%; color: Gainsboro\">\n",
    "\n",
    "* 除了以上的運算外，set還有好幾個方法可用。這些方法沒有對應的運算子：\n",
    "    <div style=\"font-family: 'Inconsolata', 'Noto Sans TC'; font-size: 90%; color: Gainsboro\">\n",
    "    \n",
    "    |方法|說明|備註|\n",
    "    |--|--|--|\n",
    "    |add(elem)|新增元素||\n",
    "    |remove(elem)|刪除元素|Raises KeyError if<br>elem is not contained<br>in the set.|\n",
    "    |discard(elem)|刪除元素|Remove element elem<br>from the set if it<br>is present.|\n",
    "    |pop()|Remove and return an<br>arbitrary element<br>from the set.|Raises KeyError if<br>the set is empty.|\n",
    "    |clear()|Remove all elements<br>from the set.||\n",
    "    |isdisjoint(self, other)|Return True if the<br>set has no elements in<br>common with other. |Sets are disjoint if<br>and only if their<br>intersection is the<br>empty set.|\n",
    "    |copy()|Return a shallow copy<br>of the set.||\n",
    "    </div>\n",
    "* 一開始講set特性時有提到不能修改元素的值，所以沒有replace()方法。\n",
    "\n",
    "</div>"
   ]
  },
  {
   "cell_type": "code",
   "execution_count": null,
   "metadata": {},
   "outputs": [],
   "source": [
    "# add()\n",
    "my_set = {8, 2, 6, 9, 3}\n",
    "print(f'Original set             : {my_set = }')\n",
    "my_set.add(7)\n",
    "print(f'After adding 7 to the set: {my_set = }')\n",
    "my_set.add(5)\n",
    "print(f'After adding 5 to the set: {my_set = }')\n",
    "my_set.add([])"
   ]
  },
  {
   "cell_type": "code",
   "execution_count": null,
   "metadata": {},
   "outputs": [],
   "source": [
    "# remove()\n",
    "try:\n",
    "    my_set = {4, 6, 2, 8, 7}\n",
    "    print(f'Original set   : {my_set = }')\n",
    "    my_set.remove(8)\n",
    "    print(f'After remove(8): {my_set = }')\n",
    "    my_set.remove(0)\n",
    "    print(f'After remove(0): {my_set = }')\n",
    "except KeyError:\n",
    "    print('Cannot remove(0) from the set.')"
   ]
  },
  {
   "cell_type": "code",
   "execution_count": null,
   "metadata": {},
   "outputs": [],
   "source": [
    "# discard()\n",
    "try:\n",
    "    my_set = {4, 6, 2, 8, 7}\n",
    "    print(f'Original set    : {my_set = }')\n",
    "    my_set.discard(8)\n",
    "    print(f'After discard(8): {my_set = }')\n",
    "    my_set.discard(0)\n",
    "    print(f'After discard(0): {my_set = }')\n",
    "except KeyError:\n",
    "    print('Cannot discard(0) from the set.')\n"
   ]
  },
  {
   "cell_type": "code",
   "execution_count": null,
   "metadata": {},
   "outputs": [],
   "source": [
    "# pop(): Remove and return an arbitrary element from the set.\n",
    "# Raises KeyError if the set is empty.\n",
    "try:\n",
    "    my_set = {2, 5, 0, 6, 1}\n",
    "    print(f'Original set   : {my_set = }')\n",
    "    removed_element = my_set.pop()\n",
    "    print(f'Removed element: {removed_element = }')\n",
    "    print(f'After pop : {my_set = }\\n')\n",
    "    removed_element = my_set.pop()\n",
    "    print(f'Removed element: {removed_element = }')\n",
    "    print(f'After pop : {my_set = }\\n')\n",
    "    empty_set = set()\n",
    "    # empty_set = {}  # empty dict, NOT empty set\n",
    "    print(f'Original set   : {empty_set = }')\n",
    "    empty_set.pop()\n",
    "    print('hello, world.')\n",
    "except KeyError:\n",
    "    print('Cannot pop from an empty set.')"
   ]
  },
  {
   "cell_type": "code",
   "execution_count": null,
   "metadata": {},
   "outputs": [],
   "source": [
    "# clear(): Remove all elements from the set.\n",
    "my_set = {2, 5, 0, 6, 1}\n",
    "print(f'Original set      : {my_set = }')\n",
    "print(f'{my_set.clear() = }')\n",
    "print(f'After clear       : {my_set = }')\n",
    "print(f'{my_set.clear() = }')\n",
    "print(f'Clear an empty set: {my_set = }')"
   ]
  },
  {
   "cell_type": "code",
   "execution_count": null,
   "metadata": {},
   "outputs": [],
   "source": [
    "# isdisjoint(): checks if two sets have no elements in common.\n",
    "set1 = {1, 2, 3, 4, 5}\n",
    "set2 = {6, 7, 8}\n",
    "# set1.isdisjoint(set2)  # Using method\n",
    "print(f'{set1 = }')\n",
    "print(f'{set2 = }')\n",
    "print(f'{set1.isdisjoint(set2) = }\\n')\n",
    "\n",
    "set1 = {1, 2, 3, 4, 5}\n",
    "set2 = {6, 7, 8, 2}\n",
    "# set1.isdisjoint(set2)  # Using method\n",
    "print(f'{set1 = }')\n",
    "print(f'{set2 = }')\n",
    "print(f'{set1.isdisjoint(set2) = }\\n')"
   ]
  },
  {
   "cell_type": "code",
   "execution_count": null,
   "metadata": {},
   "outputs": [],
   "source": [
    "# copy()\n",
    "old_set = {1, 2, 3}\n",
    "print('Before copy:')\n",
    "print(f'  {old_set = }\\t{id(old_set) = }')\n",
    "new_set = old_set.copy()\n",
    "print('After copy:')\n",
    "print(f'  {old_set = }\\t{id(old_set) = }')\n",
    "print(f'  {new_set = }\\t{id(new_set) = }')"
   ]
  },
  {
   "cell_type": "markdown",
   "metadata": {},
   "source": [
    "<div style=\"text-align:center\"><img src=\"https://hackmd.io/_uploads/S1ZVMQOP6.png\" width=\"500\"/></div>"
   ]
  },
  {
   "cell_type": "markdown",
   "metadata": {},
   "source": [
    "<div style=\"color: SteelBlue; font-family: 'Ubuntu Mono', 'Inconsolata', 'Noto Sans TC'; font-size: 300%; font-weight: 700;\">\n",
    "開始實作一個自訂的set\n",
    "</div>\n",
    "<br>\n",
    "<div style=\"font-family: 'Inconsolata', 'Noto Sans TC'; font-size: 135%; color: Gainsboro\">\n",
    "\n",
    "* set的內建方法，有些小地方得注意：\n",
    "    * add()方法新增unhashable物件時會產生exception。\n",
    "    * remove()方法欲刪除的元素為unhashabl或不在原set之中，都會產生exception(不同的exception)。\n",
    "    * discard()方法欲刪除的元素為unhashable時，會產生exception。\n",
    "    * pop()方法用在空set上會產生exception。\n",
    "    * 沒有replace()方法。"
   ]
  },
  {
   "cell_type": "code",
   "execution_count": null,
   "metadata": {},
   "outputs": [],
   "source": [
    "# add()\n",
    "set1 = {6, 4, 9, 3, 0}\n",
    "print(set1)\n",
    "set1.add('A')\n",
    "print(set1)\n",
    "# 新增unhashable物件時會產生exception\n",
    "set1.add({})\n",
    "print(set1)"
   ]
  },
  {
   "cell_type": "code",
   "execution_count": null,
   "metadata": {},
   "outputs": [],
   "source": [
    "# remove()\n",
    "set1 = {6, 4, 9, 3, 0}\n",
    "print(set1)\n",
    "set1.remove(3)\n",
    "print(set1)\n",
    "# 欲remove unhashabl物件時會產生exception。\n",
    "# set1.remove([])\n",
    "# 欲remove不在原set之中物件會產生exception。\n",
    "# set1.remove(1)"
   ]
  },
  {
   "cell_type": "code",
   "execution_count": null,
   "metadata": {},
   "outputs": [],
   "source": [
    "# discard()\n",
    "set1 = {6, 4, 9, 3, 0}\n",
    "print(set1)\n",
    "set1.discard(3)\n",
    "print(set1)\n",
    "# discard unhashable物件會產生exception。\n",
    "# set1.remove([])\n",
    "# discard不在原set之中物件倒不會產生exception。\n",
    "# set1.discard(1)\n",
    "# print(set1)"
   ]
  },
  {
   "cell_type": "code",
   "execution_count": null,
   "metadata": {},
   "outputs": [],
   "source": [
    "# pop()\n",
    "set1 = {6, 4, 9, 3, 0}\n",
    "print(set1)\n",
    "set1.pop()\n",
    "print(set1)\n",
    "# pop()空set會產生exception。\n",
    "set1 = set()\n",
    "print(set1)\n",
    "set1.pop()"
   ]
  },
  {
   "cell_type": "markdown",
   "metadata": {},
   "source": [
    "<div style=\"text-align:center\"><img src=\"https://hackmd.io/_uploads/B1tU5-T_6.png\" width=\"800\"/></div>"
   ]
  },
  {
   "cell_type": "markdown",
   "metadata": {},
   "source": [
    "<div style=\"color: SteelBlue; font-family: 'Ubuntu Mono', 'Inconsolata', 'Noto Sans TC'; font-size: 300%; font-weight: 700;\">\n",
    "自訂set的規格\n",
    "</div>\n",
    "<br>\n",
    "<div style=\"font-family: 'Inconsolata', 'Noto Sans TC'; font-size: 135%; color: Gainsboro\">\n",
    "\n",
    "* 以下筆者試圖創建一個自訂的set類別，看能否修改上述情形，達到筆者希望的效果。\n",
    "* class名稱：`RobustSet`\n",
    "* 新增功能：\n",
    "    * replace()方法。\n",
    "* 加強功能：\n",
    "    * add()方法新增的元素如果是unhashable，不會產生exception而是略過。可以一次新增多個values，也允許不傳入參數。傳回值改為int，代表實際新增的元素個數。\n",
    "    * remove()方法可以一次刪除多個values，也允許不傳入參數。欲刪除元素為unhashable或不在原set中，都不會產生exception。傳回值改為int，代表實際刪除的元素個數。\n",
    "    * discard()方法可以一次刪除多個values，亦允許不傳入參數。欲刪除元素為unhashable時不會產生exception。傳回值則維持standard set原本的None。\n",
    "    * pop()一個空set不會產生exception。\n",
    "* 其餘方法和運算子功能和standard set相同。    "
   ]
  },
  {
   "cell_type": "markdown",
   "metadata": {},
   "source": [
    "<div style=\"text-align:center\"><img src=\"https://hackmd.io/_uploads/SyI5hFsS3.png\" width=\"400\"/></div>"
   ]
  },
  {
   "cell_type": "code",
   "execution_count": null,
   "metadata": {},
   "outputs": [],
   "source": [
    "class RobustSet(set):\n",
    "    # def __init__(self, s: set):\n",
    "    #     super().__init__()\n",
    "    #     self.__set = s\n",
    "\n",
    "    @staticmethod\n",
    "    def is_hashable(obj: object) -> bool:\n",
    "        \"\"\"\n",
    "        Check if an object is hashable.\n",
    "\n",
    "        Args:\n",
    "        obj (object): The object to check.\n",
    "\n",
    "        Returns:\n",
    "        bool: True if the object is hashable, False otherwise.\n",
    "        \"\"\"\n",
    "        return_value: bool = True\n",
    "        try:\n",
    "            hash(obj)\n",
    "        except TypeError:\n",
    "            return_value = False\n",
    "        finally:\n",
    "            return return_value\n",
    "\n",
    "    def __init__(self, s: set):\n",
    "        super().__init__(s)  # Initialize the set with elements of s\n",
    "\n",
    "    # new methods\n",
    "    def replace(self, old: object, new: object) -> bool:\n",
    "        '''\n",
    "        功能：將set中的<old>代換為<new>。\n",
    "            1. <old>為unhashable時不replace，傳回False。\n",
    "            2. <new>為unhashable時不replace，傳回False。\n",
    "            3. <old>不在原set中時不replace，傳回False。\n",
    "            4. <old>等於<new>時不replace，傳回False。\n",
    "            5. 其餘情況均會replace，傳回True。\n",
    "            6. 比較特殊的是<old>和<new>均在set中時，等同於刪除<old>，但仍傳回True。\n",
    "        '''\n",
    "        if RobustSet.is_hashable(old) and RobustSet.is_hashable(new) and (old in self) and (old != new):\n",
    "            self.remove(old)\n",
    "            self.add(new)\n",
    "            return_value = True\n",
    "        else:\n",
    "            return_value = False\n",
    "        return return_value\n",
    "\n",
    "    # modified methods\n",
    "    def add(self, *elements: object) -> int:\n",
    "        '''\n",
    "        新增的元素如果是unhashable，不會產生exception而是略過。\n",
    "        可以一次新增多個values，也允許不傳入參數(即不新增)。\n",
    "        傳回值: int，代表實際新增的元素個數。\n",
    "        '''\n",
    "        # if not elements:\n",
    "        #     return 0\n",
    "        self_bak = self.copy()\n",
    "        for element in [element for element in elements if RobustSet.is_hashable(element)]:\n",
    "            super().add(element)\n",
    "        return len(self) - len(self_bak)\n",
    "\n",
    "    def remove(self, *elements: object) -> int:\n",
    "        '''\n",
    "        可以一次刪除多個values，也允許不傳入參數(即不刪除)。\n",
    "        欲刪除元素為unhashable或不在原set中，都不會產生exception。\n",
    "        傳回值: int，代表實際刪除的元素個數。\n",
    "        '''\n",
    "        self_bak = self.copy()\n",
    "        for element in elements:\n",
    "            if RobustSet.is_hashable(element):\n",
    "                super().discard(element)\n",
    "        return len(self_bak) - len(self)\n",
    "\n",
    "    def discard(self, *elements: object) -> None:\n",
    "        '''\n",
    "        可以一次刪除多個values，亦允許不傳入參數。\n",
    "        欲刪除元素為unhashable時不會產生exception。\n",
    "        傳回值: None\n",
    "        '''\n",
    "        for element in elements:\n",
    "            if RobustSet.is_hashable(element):\n",
    "                super().discard(element)\n",
    "        return None\n",
    "\n",
    "    def pop(self) -> object:\n",
    "        \"\"\"\n",
    "        Remove and return an arbitrary set element.\n",
    "        If the set is empty, do nothing and return None.\n",
    "\n",
    "        Returns:\n",
    "            The removed element if the set is not empty, otherwise None.\n",
    "        \"\"\"\n",
    "        import random\n",
    "        if not self:  # Check if the set is empty\n",
    "            return None\n",
    "        self_t = tuple(self)\n",
    "        return super().remove(self_t[random.randint(0, len(self_t) - 1)])\n",
    "        # return super().pop()  # Use the superclass's pop method\n",
    "\n",
    "    # unmodified methods\n",
    "    # def isdisjoint(self, other):    # 以string literal作為傳回值的type hint\n",
    "    #     print(f'{other = }')\n",
    "    #     return RobustSet(super().isdisjoint(other))\n",
    "\n",
    "    # def issubset(self, other):\n",
    "    #     return RobustSet(super().issubset(self, other))\n",
    "\n",
    "    # def issuperset(self, other):\n",
    "    #     return RobustSet(super().issuperset(self, other))\n",
    "\n",
    "    # def union(self, *others):\n",
    "    #     return RobustSet(super().union(self, *others))\n",
    "\n",
    "    # def intersection(self, *others):\n",
    "    #     return RobustSet(super().intersection(self, *others))\n",
    "\n",
    "    # def difference(self, *others):\n",
    "    #     return RobustSet(super().difference(self, *others))\n",
    "\n",
    "    # def symmetric_difference(self, other):\n",
    "    #     return RobustSet(super().symmetric_difference(self, other))\n",
    "\n",
    "    # def update(self, *others):\n",
    "    #     return RobustSet(super().self, *others)\n",
    "\n",
    "    # def intersection_update(self, *others):\n",
    "    #     return RobustSet(super().intersection_update(self, *others))\n",
    "\n",
    "    # def difference_update(self, *others):\n",
    "    #     return RobustSet(super().difference_update(self, *others))\n",
    "\n",
    "    # def symmetric_difference_update(self, other):\n",
    "    #     return RobustSet(super().symmetric_difference_update(self, other))\n",
    "\n",
    "    # def clear(self):\n",
    "    #     # return RobustSet(super().clear())\n",
    "    #     super().clear()\n",
    "    #     return self\n",
    "\n",
    "\n",
    "    # operators\n",
    "    # def __or__(self, other: set) -> 'RobustSet':\n",
    "    #     # Override union operation\n",
    "    #     return RobustSet(super().__or__(self, other))\n",
    "\n",
    "    # def __and__(self, other: set) -> 'RobustSet':\n",
    "    #     # Override intersection operation\n",
    "    #     return RobustSet(super().__and__(self, other))\n",
    "\n",
    "    # def __sub__(self, other: set) -> 'RobustSet':\n",
    "    #     # Override difference operation\n",
    "    #     return RobustSet(super().__sub__(self, other))\n",
    "\n",
    "    # def __xor__(self, other: set) -> 'RobustSet':\n",
    "    #     # Override symmetric difference operation\n",
    "    #     return RobustSet(super().__xor__(self, other))\n",
    "\n",
    "    # def __le__(self, other: set) -> bool:\n",
    "    #     # Override subset operation\n",
    "    #     return super().__le__(self, other)\n",
    "\n",
    "    # def __lt__(self, other: set) -> bool:\n",
    "    #     # Override proper subset operation\n",
    "    #     return super().__lt__(self, other)\n",
    "\n",
    "    # def __ge__(self, other: set) -> bool:\n",
    "    #     # Override superset operation\n",
    "    #     return super().__ge__(self, other)\n",
    "\n",
    "    # def __gt__(self, other: set) -> bool:\n",
    "    #     # Override proper superset operation\n",
    "    #     return super().__gt__(self, other)\n",
    "\n",
    "    # def __ior__(self, other: set) -> 'RobustSet':\n",
    "    #     # Override update with union operation\n",
    "    #     super().__ior__(self, other)\n",
    "    #     return self\n",
    "\n",
    "    # def __iand__(self, other: set) -> 'RobustSet':\n",
    "    #     # Override update with intersection operation\n",
    "    #     super().__iand__(self, other)\n",
    "    #     return self\n",
    "\n",
    "    # def __isub__(self, other: set) -> 'RobustSet':\n",
    "    #     # Override update with difference operation\n",
    "    #     super().__isub__(self, other)\n",
    "    #     return self\n",
    "\n",
    "    # def __ixor__(self, other: set) -> 'RobustSet':\n",
    "    #     # Override update with symmetric difference operation\n",
    "    #     super().__ixor__(self, other)\n",
    "    #     return self\n",
    "\n",
    "    def __str__(self):\n",
    "        return str(set(self))  # Convert to set for string representation\n",
    "\n",
    "    def __repr__(self):\n",
    "        return str(set(self))  # Convert to set for representation\n"
   ]
  },
  {
   "cell_type": "code",
   "execution_count": null,
   "metadata": {},
   "outputs": [],
   "source": [
    "# 示範如何使用static method。\n",
    "RobustSet.is_hashable({})\n",
    "RobustSet({}).is_hashable({})"
   ]
  },
  {
   "cell_type": "code",
   "execution_count": null,
   "metadata": {},
   "outputs": [],
   "source": [
    "set1 = RobustSet({7, 4, 2, 0, 5})\n",
    "print(set1)\n",
    "set1 | {4, 5, 8}\n",
    "set1 | {4, 5, 8}\n",
    "# print(set1)\n",
    "# s = {3, 7, 2}\n",
    "# s.add(8, 0)"
   ]
  },
  {
   "cell_type": "code",
   "execution_count": null,
   "metadata": {},
   "outputs": [],
   "source": [
    "# set1.pop()\n",
    "# print(set1)\n",
    "# set1.pop()\n",
    "# print(set1)\n",
    "# set1.pop()\n",
    "# print(set1)\n",
    "# set1.pop()\n",
    "# print(set1)\n",
    "# set1.pop()\n",
    "# print(set1)\n",
    "# set1.pop()\n",
    "# print(set1)\n",
    "# set1.pop()\n",
    "# print(set1)"
   ]
  },
  {
   "cell_type": "code",
   "execution_count": null,
   "metadata": {},
   "outputs": [],
   "source": [
    "# 建立物件並呼叫物件的show方法\n",
    "my_set = RobustSet({4, 7, 3, 3, 2, 0, 6})\n",
    "my_set.show()\n",
    "my_set = RobustSet({1, 8, 3, 0})\n",
    "my_set.show()"
   ]
  },
  {
   "cell_type": "markdown",
   "metadata": {},
   "source": [
    "<div style=\"color: SteelBlue; font-family: 'Ubuntu Mono', 'Inconsolata', 'Noto Sans TC'; font-size: 300%; font-weight: 700;\">\n",
    "Type Hinting小討論\n",
    "</div>\n",
    "<br>\n",
    "<div style=\"font-family: 'Inconsolata', 'Noto Sans TC'; font-size: 135%; color: Gainsboro\">\n",
    "\n",
    "* 以string literal作為函數傳回值的type hint(例如本例的`def xxx(self) -> 'RobustSet':`)，稱為forward reference，是從Python 3.5推出type hinting就有的功能。\n",
    "* forward reference的說明：\n",
    "    <div style=\"font-family: 'Inconsolata SemiCondensed', 'Noto Sans TC'; font-size: 90%; color: Wheat\">\n",
    "    \n",
    "    > A forward reference is a reference to a class that has not yet been fully defined at the point where the reference is made. In the context of your RobustSet class, when the methods like __or__, __and__, etc., are being defined, the RobustSet class itself is still in the process of being defined. The Python interpreter has not yet fully recognized the RobustSet class as a type because its definition is not complete.\n",
    "    \n",
    "    > If we were to use RobustSet directly as a type hint within the class body, Python would raise a NameError because it doesn't yet know about the RobustSet class at the time it's parsing those method definitions.\n",
    "\n",
    "    > To solve this issue, Python allows the use of string literals for type hints in such scenarios. By putting the class name in quotes ('RobustSet'), we are effectively deferring the evaluation of the type hint until the entire class has been defined. At runtime, when the type hints are actually evaluated, Python will already know about the RobustSet class, and the forward reference will resolve correctly.\n",
    "    \n",
    "    > This is particularly useful and often necessary for classes that reference themselves in their method signatures, as is the case with many container or collection classes like your RobustSet.</div>\n",
    "* Starting from Python 3.7, you can also use the from __future__ import annotations import to automatically treat all type hints as string literals. This can be useful to avoid the verbose use of string literals in such cases. However, being explicit with string literals, as in your code, ensures compatibility with older versions of Python and can sometimes be clearer to readers who are not familiar with the future import's effect on type hints.\n"
   ]
  },
  {
   "cell_type": "code",
   "execution_count": null,
   "metadata": {},
   "outputs": [],
   "source": [
    "# 呼叫overrided的add方法\n",
    "my_set = RobustSet({1, 8, 7, 0, 9, 3})\n",
    "my_set.show()\n",
    "my_set.add([4, [8], -0, {1}, '9', 4, 3, 2, 3])\n",
    "my_set.show()\n",
    "\n",
    "my_set = {1, 8, 7, 0, 9, 3}\n",
    "# 一般的set執行下面這列會產生exception。\n",
    "my_set.add([8])"
   ]
  },
  {
   "cell_type": "code",
   "execution_count": null,
   "metadata": {},
   "outputs": [],
   "source": [
    "# 呼叫overrided的discard方法\n",
    "my_set.show()\n",
    "print(f'{my_set.discard(45) = }')\n",
    "my_set.show()"
   ]
  },
  {
   "cell_type": "code",
   "execution_count": null,
   "metadata": {},
   "outputs": [],
   "source": [
    "# 呼叫overrided的remove方法\n",
    "# 本cell示範remove方法的參數可以為list, tuple, or set。\n",
    "my_set = RobustSet({1, 8, 7, 0, 9, 3})\n",
    "my_set.show()\n",
    "print(f'{my_set.remove([4, 8, []]) = }')\n",
    "my_set.show()\n",
    "\n",
    "my_set = {1, 8, 7, 0, 9, 3}\n",
    "# 一般的set執行下面這列會產生exception。\n",
    "my_set.remove([4, 8, []])\n",
    "\n",
    "\n",
    "# my_set = RobustSet({1, 8, 7, 0, 9, 3})\n",
    "# my_set.show()\n",
    "# my_set.remove((4, 8, []))\n",
    "# my_set.show()\n",
    "\n",
    "# my_set = RobustSet({1, 8, 7, 0, 9, 3})\n",
    "# my_set.show()\n",
    "# my_set.remove({4, 8, []})\n",
    "# my_set.show()\n"
   ]
  },
  {
   "cell_type": "code",
   "execution_count": null,
   "metadata": {},
   "outputs": [],
   "source": [
    "# 呼叫overrided的remove方法\n",
    "# 本cell示範存入參數全都刪除時，remove方法傳回True。\n",
    "my_set = RobustSet({1, 8, 7, 0, 9, 3})\n",
    "my_set.show()\n",
    "print(f'{my_set.remove([3, 8]) = }')\n",
    "my_set.show()\n",
    "\n",
    "# my_set = RobustSet({1, 8, 7, 0, 9, 3})\n",
    "# my_set.show()\n",
    "# my_set.remove((3, 8))\n",
    "# my_set.show()\n",
    "\n",
    "# my_set = RobustSet({1, 8, 7, 0, 9, 3})\n",
    "# my_set.show()\n",
    "# my_set.remove({3, 8})\n",
    "# my_set.show()"
   ]
  },
  {
   "cell_type": "code",
   "execution_count": null,
   "metadata": {},
   "outputs": [],
   "source": [
    "# 呼叫overrided的pop方法\n",
    "# my_set = RobustSet({1, 8, 7, 0, 9, 3})\n",
    "# my_set.show()\n",
    "# my_set.pop()\n",
    "# my_set.show()\n",
    "\n",
    "my_set = RobustSet({})\n",
    "my_set.show()\n",
    "# pop空set不會產生exception。\n",
    "my_set.pop()\n",
    "my_set.show()\n",
    "\n",
    "my_set = set()\n",
    "# 一般的set執行下面這列會產生exception。\n",
    "my_set.pop()"
   ]
  },
  {
   "cell_type": "code",
   "execution_count": null,
   "metadata": {},
   "outputs": [],
   "source": [
    "# 呼叫新增的replace方法。\n",
    "my_set = RobustSet({1, 8, 7, 0, 9, 3})\n",
    "my_set.show()\n",
    "my_set.replace([0], ('Alex',))\n",
    "my_set.show()"
   ]
  }
 ],
 "metadata": {
  "kernelspec": {
   "display_name": "Python 3",
   "language": "python",
   "name": "python3"
  },
  "language_info": {
   "codemirror_mode": {
    "name": "ipython",
    "version": 3
   },
   "file_extension": ".py",
   "mimetype": "text/x-python",
   "name": "python",
   "nbconvert_exporter": "python",
   "pygments_lexer": "ipython3",
   "version": "3.10.12"
  }
 },
 "nbformat": 4,
 "nbformat_minor": 2
}
